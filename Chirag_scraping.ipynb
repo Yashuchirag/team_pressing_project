{
 "cells": [
  {
   "cell_type": "code",
   "execution_count": 1,
   "metadata": {},
   "outputs": [],
   "source": [
    "import requests\n",
    "from bs4 import BeautifulSoup\n",
    "\n",
    "import re\n",
    "import pandas as pd\n",
    "\n",
    "import matplotlib.pyplot as plt\n",
    "import seaborn as sns"
   ]
  },
  {
   "cell_type": "code",
   "execution_count": 12,
   "metadata": {},
   "outputs": [],
   "source": [
    "url = \"https://www.planetfootball.com/quick-reads/premier-league-injury-table-22-23-liverpool-chelsea-arsenal-man-utd\"\n",
    "url_websites = requests.get(url)"
   ]
  },
  {
   "cell_type": "code",
   "execution_count": 13,
   "metadata": {},
   "outputs": [],
   "source": [
    "url_html_code = BeautifulSoup(url_websites.content, \"html.parser\")"
   ]
  },
  {
   "cell_type": "code",
   "execution_count": 14,
   "metadata": {},
   "outputs": [],
   "source": [
    "url_html_code_string = str(url_html_code)\n",
    "url_html_code_string = url_html_code_string.replace(\"'\",\"\\'\")"
   ]
  },
  {
   "cell_type": "code",
   "execution_count": 6,
   "metadata": {},
   "outputs": [],
   "source": [
    "# url_html_code_string"
   ]
  },
  {
   "cell_type": "code",
   "execution_count": 15,
   "metadata": {},
   "outputs": [],
   "source": [
    "p_tags = url_html_code.find_all('p')"
   ]
  },
  {
   "cell_type": "code",
   "execution_count": 17,
   "metadata": {},
   "outputs": [],
   "source": [
    "data = []"
   ]
  },
  {
   "cell_type": "code",
   "execution_count": 18,
   "metadata": {},
   "outputs": [],
   "source": [
    "for tag in p_tags:\n",
    "    # Extract text from each <p> tag\n",
    "    text = tag.get_text()\n",
    "\n",
    "    # Use regular expressions to find matches for team names and counts\n",
    "    matches = re.findall(r'(\\d+)\\.\\s([A-Za-z\\s]+)\\s–\\s(\\d+)', text)\n",
    "\n",
    "    # If matches are found, add them to the data list\n",
    "    for match in matches:\n",
    "        rank, team, count = match\n",
    "        data.append((rank, team.strip(), count))"
   ]
  },
  {
   "cell_type": "code",
   "execution_count": 19,
   "metadata": {},
   "outputs": [
    {
     "name": "stdout",
     "output_type": "stream",
     "text": [
      "Rank: 1, Team: Liverpool, Count: 162\n",
      "Rank: 2, Team: Chelsea, Count: 124\n",
      "Rank: 3, Team: Newcastle United, Count: 122\n",
      "Rank: 4, Team: Nottingham Forest, Count: 120\n",
      "Rank: 5, Team: Bournemouth, Count: 116\n",
      "Rank: 6, Team: Wolves, Count: 108\n",
      "Rank: 7, Team: Manchester United, Count: 106\n",
      "Rank: 8, Team: Leeds United, Count: 104\n",
      "Rank: 9, Team: Leicester City, Count: 103\n",
      "Rank: 10, Team: Crystal Palace, Count: 97\n",
      "Rank: 11, Team: Everton, Count: 97\n",
      "Rank: 12, Team: Brentford, Count: 94\n",
      "Rank: 13, Team: Southampton, Count: 85\n",
      "Rank: 14, Team: Arsenal, Count: 79\n",
      "Rank: 15, Team: Tottenham, Count: 78\n",
      "Rank: 16, Team: Fulham, Count: 70\n",
      "Rank: 17, Team: Aston Villa, Count: 63\n",
      "Rank: 18, Team: West Ham United, Count: 63\n",
      "Rank: 19, Team: Manchester City, Count: 49\n",
      "Rank: 20, Team: Brighton, Count: 44\n"
     ]
    }
   ],
   "source": [
    "for rank, team, count in data:\n",
    "    print(f'Rank: {rank}, Team: {team}, Count: {count}')"
   ]
  }
 ],
 "metadata": {
  "kernelspec": {
   "display_name": "base",
   "language": "python",
   "name": "python3"
  },
  "language_info": {
   "codemirror_mode": {
    "name": "ipython",
    "version": 3
   },
   "file_extension": ".py",
   "mimetype": "text/x-python",
   "name": "python",
   "nbconvert_exporter": "python",
   "pygments_lexer": "ipython3",
   "version": "3.11.5"
  }
 },
 "nbformat": 4,
 "nbformat_minor": 2
}
