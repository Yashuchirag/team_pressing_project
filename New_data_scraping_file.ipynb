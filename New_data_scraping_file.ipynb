{
 "cells": [
  {
   "cell_type": "code",
   "execution_count": 1,
   "id": "db1d4d01",
   "metadata": {},
   "outputs": [
    {
     "name": "stderr",
     "output_type": "stream",
     "text": [
      "C:\\Users\\vivek\\anaconda3\\lib\\site-packages\\numpy\\_distributor_init.py:30: UserWarning: loaded more than 1 DLL from .libs:\n",
      "C:\\Users\\vivek\\anaconda3\\lib\\site-packages\\numpy\\.libs\\libopenblas.FB5AE2TYXYH2IJRDKGDGQ3XBKLKTF43H.gfortran-win_amd64.dll\n",
      "C:\\Users\\vivek\\anaconda3\\lib\\site-packages\\numpy\\.libs\\libopenblas.XWYDX2IKJW2NMTWSFYNGFUWKQU3LYTCZ.gfortran-win_amd64.dll\n",
      "  warnings.warn(\"loaded more than 1 DLL from .libs:\"\n"
     ]
    }
   ],
   "source": [
    "import requests\n",
    "from bs4 import BeautifulSoup\n",
    "\n",
    "import re\n",
    "import pandas as pd\n",
    "\n",
    "import matplotlib.pyplot as plt\n",
    "import seaborn as sns"
   ]
  },
  {
   "cell_type": "code",
   "execution_count": 10,
   "id": "7e7c3f8d",
   "metadata": {},
   "outputs": [],
   "source": [
    "# Function to make requests with proxy rotation\n",
    "def get_url_website(url, proxies):\n",
    "    for proxy in proxies:\n",
    "        try:\n",
    "            response = requests.get(url, proxies=proxy, timeout=5)\n",
    "            if response.status_code == 200:\n",
    "                return response\n",
    "        except Exception as e:\n",
    "            print(f\"Error with proxy {proxy}: {e}\")\n",
    "    print(\"All proxies failed.\")\n",
    "    return None"
   ]
  },
  {
   "cell_type": "code",
   "execution_count": 3,
   "id": "8706f2bf",
   "metadata": {},
   "outputs": [],
   "source": [
    "def get_url_website(url):\n",
    "    return requests.get(url)\n",
    "\n",
    "def retrieve_html_code(url_website):\n",
    "    return BeautifulSoup(url_website.content, \"html.parser\")"
   ]
  },
  {
   "cell_type": "code",
   "execution_count": 4,
   "id": "1af54827",
   "metadata": {},
   "outputs": [],
   "source": [
    "seasons_list = [\n",
    "    '2004-2005',\n",
    "    '2005-2006',\n",
    "    '2006-2007',\n",
    "    '2007-2008',\n",
    "    '2008-2009',\n",
    "    '2009-2010',\n",
    "    '2010-2011',\n",
    "    '2011-2012',\n",
    "    '2012-2013',\n",
    "    '2013-2014',\n",
    "    '2014-2015',\n",
    "    '2015-2016',\n",
    "    '2016-2017',\n",
    "    '2017-2018',\n",
    "    '2018-2019',\n",
    "    '2019-2020',\n",
    "    '2020-2021',\n",
    "    '2021-2022',\n",
    "    '2022-2023',\n",
    "    '2023-2024'\n",
    "]\n",
    "\n",
    "\n",
    "proxy_list = [\"socks4://45.81.232.17:2167\",\n",
    "\"socks4://76.26.114.253:39593\",\n",
    "\"socks4://65.169.38.73:26592\",\n",
    "\"socks5://184.178.172.28:15294\",\n",
    "\"socks4://154.205.152.96:139\",\n",
    "\"socks5://199.204.248.169:54892\"]"
   ]
  },
  {
   "cell_type": "code",
   "execution_count": 11,
   "id": "1eb50204",
   "metadata": {
    "scrolled": true
   },
   "outputs": [
    {
     "name": "stdout",
     "output_type": "stream",
     "text": [
      "Error with proxy socks4://45.81.232.17:2167: 'str' object has no attribute 'get'\n",
      "Error with proxy socks4://76.26.114.253:39593: 'str' object has no attribute 'get'\n",
      "Error with proxy socks4://65.169.38.73:26592: 'str' object has no attribute 'get'\n",
      "Error with proxy socks5://184.178.172.28:15294: 'str' object has no attribute 'get'\n",
      "Error with proxy socks4://154.205.152.96:139: 'str' object has no attribute 'get'\n",
      "Error with proxy socks5://199.204.248.169:54892: 'str' object has no attribute 'get'\n",
      "All proxies failed.\n",
      "Error with proxy socks4://45.81.232.17:2167: 'str' object has no attribute 'get'\n",
      "Error with proxy socks4://76.26.114.253:39593: 'str' object has no attribute 'get'\n",
      "Error with proxy socks4://65.169.38.73:26592: 'str' object has no attribute 'get'\n",
      "Error with proxy socks5://184.178.172.28:15294: 'str' object has no attribute 'get'\n",
      "Error with proxy socks4://154.205.152.96:139: 'str' object has no attribute 'get'\n",
      "Error with proxy socks5://199.204.248.169:54892: 'str' object has no attribute 'get'\n",
      "All proxies failed.\n",
      "Error with proxy socks4://45.81.232.17:2167: 'str' object has no attribute 'get'\n",
      "Error with proxy socks4://76.26.114.253:39593: 'str' object has no attribute 'get'\n",
      "Error with proxy socks4://65.169.38.73:26592: 'str' object has no attribute 'get'\n",
      "Error with proxy socks5://184.178.172.28:15294: 'str' object has no attribute 'get'\n",
      "Error with proxy socks4://154.205.152.96:139: 'str' object has no attribute 'get'\n",
      "Error with proxy socks5://199.204.248.169:54892: 'str' object has no attribute 'get'\n",
      "All proxies failed.\n",
      "Error with proxy socks4://45.81.232.17:2167: 'str' object has no attribute 'get'\n",
      "Error with proxy socks4://76.26.114.253:39593: 'str' object has no attribute 'get'\n",
      "Error with proxy socks4://65.169.38.73:26592: 'str' object has no attribute 'get'\n",
      "Error with proxy socks5://184.178.172.28:15294: 'str' object has no attribute 'get'\n",
      "Error with proxy socks4://154.205.152.96:139: 'str' object has no attribute 'get'\n",
      "Error with proxy socks5://199.204.248.169:54892: 'str' object has no attribute 'get'\n",
      "All proxies failed.\n",
      "Error with proxy socks4://45.81.232.17:2167: 'str' object has no attribute 'get'\n",
      "Error with proxy socks4://76.26.114.253:39593: 'str' object has no attribute 'get'\n",
      "Error with proxy socks4://65.169.38.73:26592: 'str' object has no attribute 'get'\n",
      "Error with proxy socks5://184.178.172.28:15294: 'str' object has no attribute 'get'\n",
      "Error with proxy socks4://154.205.152.96:139: 'str' object has no attribute 'get'\n",
      "Error with proxy socks5://199.204.248.169:54892: 'str' object has no attribute 'get'\n",
      "All proxies failed.\n",
      "Error with proxy socks4://45.81.232.17:2167: 'str' object has no attribute 'get'\n",
      "Error with proxy socks4://76.26.114.253:39593: 'str' object has no attribute 'get'\n",
      "Error with proxy socks4://65.169.38.73:26592: 'str' object has no attribute 'get'\n",
      "Error with proxy socks5://184.178.172.28:15294: 'str' object has no attribute 'get'\n",
      "Error with proxy socks4://154.205.152.96:139: 'str' object has no attribute 'get'\n",
      "Error with proxy socks5://199.204.248.169:54892: 'str' object has no attribute 'get'\n",
      "All proxies failed.\n",
      "Error with proxy socks4://45.81.232.17:2167: 'str' object has no attribute 'get'\n",
      "Error with proxy socks4://76.26.114.253:39593: 'str' object has no attribute 'get'\n",
      "Error with proxy socks4://65.169.38.73:26592: 'str' object has no attribute 'get'\n",
      "Error with proxy socks5://184.178.172.28:15294: 'str' object has no attribute 'get'\n",
      "Error with proxy socks4://154.205.152.96:139: 'str' object has no attribute 'get'\n",
      "Error with proxy socks5://199.204.248.169:54892: 'str' object has no attribute 'get'\n",
      "All proxies failed.\n",
      "Error with proxy socks4://45.81.232.17:2167: 'str' object has no attribute 'get'\n",
      "Error with proxy socks4://76.26.114.253:39593: 'str' object has no attribute 'get'\n",
      "Error with proxy socks4://65.169.38.73:26592: 'str' object has no attribute 'get'\n",
      "Error with proxy socks5://184.178.172.28:15294: 'str' object has no attribute 'get'\n",
      "Error with proxy socks4://154.205.152.96:139: 'str' object has no attribute 'get'\n",
      "Error with proxy socks5://199.204.248.169:54892: 'str' object has no attribute 'get'\n",
      "All proxies failed.\n",
      "Error with proxy socks4://45.81.232.17:2167: 'str' object has no attribute 'get'\n",
      "Error with proxy socks4://76.26.114.253:39593: 'str' object has no attribute 'get'\n",
      "Error with proxy socks4://65.169.38.73:26592: 'str' object has no attribute 'get'\n",
      "Error with proxy socks5://184.178.172.28:15294: 'str' object has no attribute 'get'\n",
      "Error with proxy socks4://154.205.152.96:139: 'str' object has no attribute 'get'\n",
      "Error with proxy socks5://199.204.248.169:54892: 'str' object has no attribute 'get'\n",
      "All proxies failed.\n",
      "Error with proxy socks4://45.81.232.17:2167: 'str' object has no attribute 'get'\n",
      "Error with proxy socks4://76.26.114.253:39593: 'str' object has no attribute 'get'\n",
      "Error with proxy socks4://65.169.38.73:26592: 'str' object has no attribute 'get'\n",
      "Error with proxy socks5://184.178.172.28:15294: 'str' object has no attribute 'get'\n",
      "Error with proxy socks4://154.205.152.96:139: 'str' object has no attribute 'get'\n",
      "Error with proxy socks5://199.204.248.169:54892: 'str' object has no attribute 'get'\n",
      "All proxies failed.\n",
      "Error with proxy socks4://45.81.232.17:2167: 'str' object has no attribute 'get'\n",
      "Error with proxy socks4://76.26.114.253:39593: 'str' object has no attribute 'get'\n",
      "Error with proxy socks4://65.169.38.73:26592: 'str' object has no attribute 'get'\n",
      "Error with proxy socks5://184.178.172.28:15294: 'str' object has no attribute 'get'\n",
      "Error with proxy socks4://154.205.152.96:139: 'str' object has no attribute 'get'\n",
      "Error with proxy socks5://199.204.248.169:54892: 'str' object has no attribute 'get'\n",
      "All proxies failed.\n",
      "Error with proxy socks4://45.81.232.17:2167: 'str' object has no attribute 'get'\n",
      "Error with proxy socks4://76.26.114.253:39593: 'str' object has no attribute 'get'\n",
      "Error with proxy socks4://65.169.38.73:26592: 'str' object has no attribute 'get'\n",
      "Error with proxy socks5://184.178.172.28:15294: 'str' object has no attribute 'get'\n",
      "Error with proxy socks4://154.205.152.96:139: 'str' object has no attribute 'get'\n",
      "Error with proxy socks5://199.204.248.169:54892: 'str' object has no attribute 'get'\n",
      "All proxies failed.\n",
      "Error with proxy socks4://45.81.232.17:2167: 'str' object has no attribute 'get'\n",
      "Error with proxy socks4://76.26.114.253:39593: 'str' object has no attribute 'get'\n",
      "Error with proxy socks4://65.169.38.73:26592: 'str' object has no attribute 'get'\n",
      "Error with proxy socks5://184.178.172.28:15294: 'str' object has no attribute 'get'\n",
      "Error with proxy socks4://154.205.152.96:139: 'str' object has no attribute 'get'\n",
      "Error with proxy socks5://199.204.248.169:54892: 'str' object has no attribute 'get'\n",
      "All proxies failed.\n",
      "Error with proxy socks4://45.81.232.17:2167: 'str' object has no attribute 'get'\n",
      "Error with proxy socks4://76.26.114.253:39593: 'str' object has no attribute 'get'\n",
      "Error with proxy socks4://65.169.38.73:26592: 'str' object has no attribute 'get'\n",
      "Error with proxy socks5://184.178.172.28:15294: 'str' object has no attribute 'get'\n",
      "Error with proxy socks4://154.205.152.96:139: 'str' object has no attribute 'get'\n",
      "Error with proxy socks5://199.204.248.169:54892: 'str' object has no attribute 'get'\n",
      "All proxies failed.\n",
      "Error with proxy socks4://45.81.232.17:2167: 'str' object has no attribute 'get'\n",
      "Error with proxy socks4://76.26.114.253:39593: 'str' object has no attribute 'get'\n",
      "Error with proxy socks4://65.169.38.73:26592: 'str' object has no attribute 'get'\n",
      "Error with proxy socks5://184.178.172.28:15294: 'str' object has no attribute 'get'\n",
      "Error with proxy socks4://154.205.152.96:139: 'str' object has no attribute 'get'\n",
      "Error with proxy socks5://199.204.248.169:54892: 'str' object has no attribute 'get'\n",
      "All proxies failed.\n",
      "Error with proxy socks4://45.81.232.17:2167: 'str' object has no attribute 'get'\n",
      "Error with proxy socks4://76.26.114.253:39593: 'str' object has no attribute 'get'\n",
      "Error with proxy socks4://65.169.38.73:26592: 'str' object has no attribute 'get'\n",
      "Error with proxy socks5://184.178.172.28:15294: 'str' object has no attribute 'get'\n",
      "Error with proxy socks4://154.205.152.96:139: 'str' object has no attribute 'get'\n",
      "Error with proxy socks5://199.204.248.169:54892: 'str' object has no attribute 'get'\n",
      "All proxies failed.\n"
     ]
    },
    {
     "name": "stdout",
     "output_type": "stream",
     "text": [
      "Error with proxy socks4://45.81.232.17:2167: 'str' object has no attribute 'get'\n",
      "Error with proxy socks4://76.26.114.253:39593: 'str' object has no attribute 'get'\n",
      "Error with proxy socks4://65.169.38.73:26592: 'str' object has no attribute 'get'\n",
      "Error with proxy socks5://184.178.172.28:15294: 'str' object has no attribute 'get'\n",
      "Error with proxy socks4://154.205.152.96:139: 'str' object has no attribute 'get'\n",
      "Error with proxy socks5://199.204.248.169:54892: 'str' object has no attribute 'get'\n",
      "All proxies failed.\n",
      "Error with proxy socks4://45.81.232.17:2167: 'str' object has no attribute 'get'\n",
      "Error with proxy socks4://76.26.114.253:39593: 'str' object has no attribute 'get'\n",
      "Error with proxy socks4://65.169.38.73:26592: 'str' object has no attribute 'get'\n",
      "Error with proxy socks5://184.178.172.28:15294: 'str' object has no attribute 'get'\n",
      "Error with proxy socks4://154.205.152.96:139: 'str' object has no attribute 'get'\n",
      "Error with proxy socks5://199.204.248.169:54892: 'str' object has no attribute 'get'\n",
      "All proxies failed.\n",
      "Error with proxy socks4://45.81.232.17:2167: 'str' object has no attribute 'get'\n",
      "Error with proxy socks4://76.26.114.253:39593: 'str' object has no attribute 'get'\n",
      "Error with proxy socks4://65.169.38.73:26592: 'str' object has no attribute 'get'\n",
      "Error with proxy socks5://184.178.172.28:15294: 'str' object has no attribute 'get'\n",
      "Error with proxy socks4://154.205.152.96:139: 'str' object has no attribute 'get'\n",
      "Error with proxy socks5://199.204.248.169:54892: 'str' object has no attribute 'get'\n",
      "All proxies failed.\n",
      "Error with proxy socks4://45.81.232.17:2167: 'str' object has no attribute 'get'\n",
      "Error with proxy socks4://76.26.114.253:39593: 'str' object has no attribute 'get'\n",
      "Error with proxy socks4://65.169.38.73:26592: 'str' object has no attribute 'get'\n",
      "Error with proxy socks5://184.178.172.28:15294: 'str' object has no attribute 'get'\n",
      "Error with proxy socks4://154.205.152.96:139: 'str' object has no attribute 'get'\n",
      "Error with proxy socks5://199.204.248.169:54892: 'str' object has no attribute 'get'\n",
      "All proxies failed.\n"
     ]
    }
   ],
   "source": [
    "import time\n",
    "\n",
    "url_stats = {}\n",
    "\n",
    "for season in seasons_list:\n",
    "    url = f\"https://fbref.com/en/comps/9/{season}/{season}-Premier-League-Stats\"\n",
    "    time.sleep(1)\n",
    "#     url_stats[f\"{season}\"] = get_url_website(url, proxy_list)\n",
    "    url_stats[f\"{season}\"] = get_url_website(url)\n",
    "#     time.sleep(1)\n",
    "    # Process the fetched data here\n",
    "    # You can perform any operations with the fetched data within this loop\n"
   ]
  },
  {
   "cell_type": "code",
   "execution_count": 12,
   "id": "03477481",
   "metadata": {},
   "outputs": [],
   "source": [
    "# url_website_pl_22_23_stats = get_url_website(\"https://fbref.com/en/comps/9/2022-2023/2022-2023-Premier-League-Stats\")"
   ]
  },
  {
   "cell_type": "code",
   "execution_count": 13,
   "id": "fdd03972",
   "metadata": {},
   "outputs": [],
   "source": [
    "def get_stats_table(html_website_func, table_id, index_col_name):\n",
    "    stats = html_website_func.find_all('table', attrs={\"id\":table_id})\n",
    "    pl_stats = pd.read_html(str(stats))[0]\n",
    "    pl_stats.columns = pl_stats.columns.droplevel(level=0)\n",
    "    return pl_stats.set_index(index_col_name)\n",
    "    # pl_stats = pl_stats.set_index(index_col_name)\n",
    "    # return pl_stats"
   ]
  },
  {
   "cell_type": "code",
   "execution_count": 14,
   "id": "15ba4f46",
   "metadata": {},
   "outputs": [
    {
     "data": {
      "text/plain": [
       "{'2004-2005': None,\n",
       " '2005-2006': None,\n",
       " '2006-2007': None,\n",
       " '2007-2008': None,\n",
       " '2008-2009': None,\n",
       " '2009-2010': None,\n",
       " '2010-2011': None,\n",
       " '2011-2012': None,\n",
       " '2012-2013': None,\n",
       " '2013-2014': None,\n",
       " '2014-2015': None,\n",
       " '2015-2016': None,\n",
       " '2016-2017': None,\n",
       " '2017-2018': None,\n",
       " '2018-2019': None,\n",
       " '2019-2020': None,\n",
       " '2020-2021': None,\n",
       " '2021-2022': None,\n",
       " '2022-2023': None,\n",
       " '2023-2024': None}"
      ]
     },
     "execution_count": 14,
     "metadata": {},
     "output_type": "execute_result"
    }
   ],
   "source": [
    "url_stats"
   ]
  },
  {
   "cell_type": "code",
   "execution_count": null,
   "id": "0e772c36",
   "metadata": {},
   "outputs": [],
   "source": [
    "html_website = {}\n",
    "\n",
    "for season in seasons_list:\n",
    "    html_website[f\"{season}\"] = retrieve_html_code(url_stats[f\"{season}\"])"
   ]
  },
  {
   "cell_type": "code",
   "execution_count": null,
   "id": "3f0098f2",
   "metadata": {},
   "outputs": [],
   "source": [
    "\n",
    "\n",
    "# stats1 = html_website[f\"{season}\"].find_all('table', attrs={\"id\":\"results2022-202391_overall\"})\n",
    "# pl_stats1 = pd.read_html(str(stats1))[0]\n",
    "# #pl_stats1.columns = pl_stats1.columns.droplevel(level=0)\n",
    "# pl_stats1 = pl_stats1.set_index(\"Squad\")\n",
    "# pl_stats['regular_season'] = pl_stats1\n",
    "\n",
    "for season in seasons_list:\n",
    "    pl_stats = {}\n",
    "    pl_stats['regular_season'] = get_stats_table(html_website[f\"{season}\"],\"results2022-202391_overall\", \"Squad\")\n",
    "    pl_stats['squad_standard_stats'] = get_stats_table(html_website[f\"{season}\"],\"stats_squads_standard_for\", \"Squad\")\n",
    "    pl_stats['squad_goalkeeping'] = get_stats_table(html_website[f\"{season}\"],\"stats_squads_keeper_for\", \"Squad\")\n",
    "    pl_stats['squad_advanced_goalkeeping'] = get_stats_table(html_website[f\"{season}\"],\"stats_squads_keeper_adv_for\", \"Squad\")\n",
    "    pl_stats['squad_defensive_actions'] = get_stats_table(html_website[f\"{season}\"],\"stats_squads_defense_for\", \"Squad\")\n",
    "    pl_stats['squad_possession'] = get_stats_table(html_website[f\"{season}\"],\"stats_squads_possession_for\", \"Squad\")\n",
    "    pl_stats['squad_goal_and_shot_creation'] = get_stats_table(html_website[f\"{season}\"],\"stats_squads_gca_for\", \"Squad\")\n",
    "    pl_stats['squad_shooting'] = get_stats_table(html_website[f\"{season}\"],\"stats_squads_shooting_for\", \"Squad\")\n",
    "    pl_stats['squad_misc'] = get_stats_table(html_website[f\"{season}\"],\"stats_squads_misc_for\", \"Squad\")\n",
    "    pl_stats_by_season[f\"{season}\"] = pl_stats\n"
   ]
  },
  {
   "cell_type": "code",
   "execution_count": null,
   "id": "2c933de6",
   "metadata": {},
   "outputs": [],
   "source": [
    "# for pl_stats in pl_stats_by_season\n",
    "for season in seasons_list:\n",
    "    pl_stats = pl_stats_by_season[f\"{season}\"]\n",
    "    pd.concat([pl_stats[stat_name] for stat_name in pl_stats.keys()],axis=1, join='outer').to_csv(\"pl_stats.csv\",index=True)"
   ]
  },
  {
   "cell_type": "code",
   "execution_count": null,
   "id": "200bc256",
   "metadata": {},
   "outputs": [],
   "source": [
    "pl_stats.keys()"
   ]
  },
  {
   "cell_type": "code",
   "execution_count": null,
   "id": "e28e7442",
   "metadata": {},
   "outputs": [],
   "source": [
    "#pl_stats"
   ]
  },
  {
   "cell_type": "code",
   "execution_count": null,
   "id": "93363856",
   "metadata": {},
   "outputs": [],
   "source": []
  },
  {
   "cell_type": "code",
   "execution_count": null,
   "id": "2584c2ec",
   "metadata": {},
   "outputs": [],
   "source": [
    "team_stats_url = {}"
   ]
  },
  {
   "cell_type": "code",
   "execution_count": null,
   "id": "2a540fe1",
   "metadata": {},
   "outputs": [],
   "source": [
    "team_stats_url['manchester_city'] = retrieve_html_code(get_url_website(\"https://fbref.com/en/squads/b8fd03ef/2022-2023/Manchester-City-Stats\"))\n",
    "team_stats_url['arsenel'] = retrieve_html_code(get_url_website(\"https://fbref.com/en/squads/18bb7c10/2022-2023/Arsenal-Stats\"))\n",
    "team_stats_url['manchester_united'] = retrieve_html_code(get_url_website(\"https://fbref.com/en/squads/19538871/2022-2023/Manchester-United-Stats\"))\n",
    "team_stats_url['newcastle'] = retrieve_html_code(get_url_website(\"https://fbref.com/en/squads/b2b47a98/2022-2023/Newcastle-United-Stats\"))\n",
    "team_stats_url['liverpool'] = retrieve_html_code(get_url_website(\"https://fbref.com/en/squads/822bd0ba/2022-2023/Liverpool-Stats\"))\n",
    "team_stats_url['brighton'] = retrieve_html_code(get_url_website(\"https://fbref.com/en/squads/d07537b9/2022-2023/Brighton-and-Hove-Albion-Stats\"))\n",
    "team_stats_url['aston_villa'] = retrieve_html_code(get_url_website(\"https://fbref.com/en/squads/8602292d/2022-2023/Aston-Villa-Stats\"))\n",
    "team_stats_url['nottingham_forest'] = retrieve_html_code(get_url_website(\"https://fbref.com/en/squads/e4a775cb/2022-2023/Nottingham-Forest-Stats\"))\n",
    "team_stats_url['everton'] = retrieve_html_code(get_url_website(\"https://fbref.com/en/squads/d3fd31cc/2022-2023/Everton-Stats\"))\n",
    "team_stats_url['leicester_city'] = retrieve_html_code(get_url_website(\"https://fbref.com/en/squads/a2d435b3/2022-2023/Leicester-City-Stats\"))\n",
    "team_stats_url['leeds_united'] = retrieve_html_code(get_url_website(\"https://fbref.com/en/squads/5bfb9659/2022-2023/Leeds-United-Stats\"))\n",
    "team_stats_url['southampton'] = retrieve_html_code(get_url_website(\"https://fbref.com/en/squads/33c895d4/2022-2023/Southampton-Stats\"))"
   ]
  },
  {
   "cell_type": "code",
   "execution_count": null,
   "id": "1204e7c1",
   "metadata": {},
   "outputs": [],
   "source": [
    "def get_team_stats_table(website_html, table_id, index_col_name):\n",
    "    stats = website_html.find_all('table', attrs={\"id\":table_id})\n",
    "    pl_stats = pd.read_html(str(stats))[0]\n",
    "    pl_stats.columns = pl_stats.columns.droplevel(level=0)\n",
    "    pl_stats = pl_stats.set_index(index_col_name)\n",
    "    return pl_stats"
   ]
  },
  {
   "cell_type": "code",
   "execution_count": null,
   "id": "6e5ca043",
   "metadata": {},
   "outputs": [],
   "source": [
    "#team_stats_url['manchester_united']"
   ]
  },
  {
   "cell_type": "code",
   "execution_count": null,
   "id": "5302e283",
   "metadata": {},
   "outputs": [],
   "source": [
    "get_team_stats_table(team_stats_url['manchester_united'], \"stats_keeper_adv_9\", \"Player\")"
   ]
  },
  {
   "cell_type": "code",
   "execution_count": null,
   "id": "22509567",
   "metadata": {},
   "outputs": [],
   "source": [
    "team_stats={}\n",
    "\n",
    "for key_iter in team_stats_url.keys():\n",
    "    temp_stats={}\n",
    "    temp_stats[\"squad_standard_stats\"]=get_team_stats_table(team_stats_url[key_iter], \"stats_standard_9\", \"Player\").drop(\"Matches\",axis=1)\n",
    "    temp_stats[\"squad_goalkeeping\"]=get_team_stats_table(team_stats_url[key_iter], \"stats_keeper_9\", \"Player\").drop([\"Matches\", \"Nation\", \"Pos\"],axis=1)\n",
    "    temp_stats[\"squad_advanced_goalkeeping\"]=get_team_stats_table(team_stats_url[key_iter], \"stats_keeper_adv_9\", \"Player\").drop([\"Matches\", \"Nation\", \"Pos\"],axis=1)\n",
    "    temp_stats[\"squad_defensive_actions\"]=get_team_stats_table(team_stats_url[key_iter], \"stats_defense_9\", \"Player\").drop(\"Matches\",axis=1)\n",
    "    temp_stats[\"squad_possession\"]=get_team_stats_table(team_stats_url[key_iter], \"stats_possession_9\", \"Player\").drop(\"Matches\",axis=1)\n",
    "    temp_stats[\"squad_goal_and_shot_creation\"]=get_team_stats_table(team_stats_url[key_iter], \"stats_gca_9\", \"Player\").drop(\"Matches\",axis=1)\n",
    "    temp_stats[\"squad_shooting\"]=get_team_stats_table(team_stats_url[key_iter], \"stats_shooting_9\", \"Player\").drop(\"Matches\",axis=1)\n",
    "    temp_stats[\"squad_misc\"]=get_team_stats_table(team_stats_url[key_iter], \"stats_misc_9\", \"Player\").drop(\"Matches\",axis=1)\n",
    "    \n",
    "    \n",
    "    #print(temp_stats.keys())\n",
    "    #print(pd.concat([temp_stats['squad_standard_stats'], temp_stats['squad_defensive_actions']],axis=1).columns)\n",
    "    temp_df=pd.concat([temp_stats[stat_name] for stat_name in temp_stats.keys()],axis=1, join='outer')\n",
    "    \n",
    "    team_stats[key_iter]=temp_df"
   ]
  },
  {
   "cell_type": "code",
   "execution_count": null,
   "id": "58b007de",
   "metadata": {
    "scrolled": false
   },
   "outputs": [],
   "source": [
    "#print(team_stats.keys(), team_stats[\"manchester_united\"].keys())"
   ]
  },
  {
   "cell_type": "code",
   "execution_count": null,
   "id": "73590f3c",
   "metadata": {},
   "outputs": [],
   "source": [
    "import csv\n",
    "import os\n",
    "\n",
    "def saver(dictex):\n",
    "    for key, val in dictex.items():\n",
    "        #print(key, val)\n",
    "        #print(f\"Duplicate columns in {str(key)}\")\n",
    "        #print(val.columns[val.columns.duplicated()], val.columns[val.columns.duplicated()].value_counts())\n",
    "        #print(val.columns[val.columns.duplicated()], val.columns)\n",
    "        \n",
    "        #val.drop(val.columns[val.columns.duplicated()],axis=1).to_csv(\"data_{}.csv\".format(str(key)))\n",
    "        unique_columns = set(val.columns)\n",
    "\n",
    "        # Drop the duplicate columns\n",
    "        #print(pd.Series(val.columns == val[list(unique_columns)].columns).value_counts())\n",
    "        val = val[list(unique_columns)]\n",
    "        val.to_csv(\"data_{}.csv\".format(str(key)))\n",
    "        #print(val.columns[val.columns.duplicated()], val.columns[val.columns.duplicated()].value_counts())\n",
    "        \n",
    "def loader(data_keys):\n",
    "    dictex = {}    \n",
    "    for key in data_keys:\n",
    "        file_path = \"data_{}.csv\".format(str(key))\n",
    "        if os.path.exists(file_path):\n",
    "            continue\n",
    "        else:\n",
    "            df = pd.DataFrame()\n",
    "            df.to_csv(file_path, index=False)\n",
    "        dictex[key] = pd.read_csv(file_path)\n",
    "    #print(dictex)\n",
    "    return dictex\n",
    "\n",
    "#dictex = loader(team_stats.keys())\n",
    "saver(team_stats)"
   ]
  },
  {
   "cell_type": "code",
   "execution_count": null,
   "id": "338d0970",
   "metadata": {},
   "outputs": [],
   "source": []
  },
  {
   "cell_type": "code",
   "execution_count": null,
   "id": "9955afcf",
   "metadata": {},
   "outputs": [],
   "source": [
    "import seaborn as sns"
   ]
  },
  {
   "cell_type": "code",
   "execution_count": null,
   "id": "c4da5138",
   "metadata": {},
   "outputs": [],
   "source": [
    "man_utd_stats = pd.read_csv(\"data_manchester_united.csv\", index_col=\"Player\")"
   ]
  },
  {
   "cell_type": "code",
   "execution_count": null,
   "id": "1a009c18",
   "metadata": {},
   "outputs": [],
   "source": [
    "data_corr=man_utd_stats.corr()"
   ]
  },
  {
   "cell_type": "code",
   "execution_count": null,
   "id": "ba91a27f",
   "metadata": {},
   "outputs": [],
   "source": [
    "data_corr"
   ]
  },
  {
   "cell_type": "code",
   "execution_count": null,
   "id": "0cc5b066",
   "metadata": {},
   "outputs": [],
   "source": [
    "correlated_features = data_corr[(data_corr > 0.6) | (data_corr < -0.6)]"
   ]
  },
  {
   "cell_type": "code",
   "execution_count": null,
   "id": "b4d08600",
   "metadata": {},
   "outputs": [],
   "source": [
    "correlated_features_df = correlated_features.stack().index\n",
    "correlated_features_df=pd.DataFrame(correlated_features_df)\n",
    "\n",
    "correlated_features_df"
   ]
  },
  {
   "cell_type": "code",
   "execution_count": null,
   "id": "3ea70c18",
   "metadata": {},
   "outputs": [],
   "source": [
    "correlated_features_df = pd.DataFrame(correlated_features.stack().index)\n",
    "#print(correlated_features_df.loc[:,0])\n",
    "correlated_features_df=pd.DataFrame(correlated_features_df.loc[:,0])\n",
    "#correlated_features_df"
   ]
  },
  {
   "cell_type": "code",
   "execution_count": null,
   "id": "de0fc6d2",
   "metadata": {},
   "outputs": [],
   "source": [
    "#[correlated_features_df.loc[:,0][i][0] != correlated_features_df.loc[:,0][i][1] for i in range(len(correlated_features_df))]"
   ]
  },
  {
   "cell_type": "code",
   "execution_count": null,
   "id": "860a0575",
   "metadata": {},
   "outputs": [],
   "source": [
    "correlated_features_df[0].loc[:,0]"
   ]
  },
  {
   "cell_type": "code",
   "execution_count": null,
   "id": "324496f1",
   "metadata": {},
   "outputs": [],
   "source": [
    "correlated_features_df=correlated_features_df[[correlated_features_df.loc[:,0][i][0] != correlated_features_df.loc[:,0][i][1] for i in range(len(correlated_features_df))]]"
   ]
  },
  {
   "cell_type": "code",
   "execution_count": null,
   "id": "236c8379",
   "metadata": {},
   "outputs": [],
   "source": [
    "correlated_features_df"
   ]
  },
  {
   "cell_type": "code",
   "execution_count": null,
   "id": "4b79ffc3",
   "metadata": {},
   "outputs": [],
   "source": [
    "man_utd_stats[]"
   ]
  }
 ],
 "metadata": {
  "kernelspec": {
   "display_name": "Python 3 (ipykernel)",
   "language": "python",
   "name": "python3"
  },
  "language_info": {
   "codemirror_mode": {
    "name": "ipython",
    "version": 3
   },
   "file_extension": ".py",
   "mimetype": "text/x-python",
   "name": "python",
   "nbconvert_exporter": "python",
   "pygments_lexer": "ipython3",
   "version": "3.9.13"
  }
 },
 "nbformat": 4,
 "nbformat_minor": 5
}
