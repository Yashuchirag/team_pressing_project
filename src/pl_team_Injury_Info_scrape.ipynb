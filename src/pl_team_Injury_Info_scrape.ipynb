{
 "cells": [
  {
   "cell_type": "markdown",
   "metadata": {},
   "source": [
    "### Extracting information about player injuries"
   ]
  },
  {
   "cell_type": "code",
   "execution_count": 8,
   "metadata": {},
   "outputs": [],
   "source": [
    "#import the required libraries\n",
    "from bs4 import BeautifulSoup\n",
    "import pandas as pd\n",
    "from selenium import webdriver\n",
    "import chromedriver_autoinstaller\n"
   ]
  },
  {
   "cell_type": "code",
   "execution_count": 37,
   "metadata": {},
   "outputs": [],
   "source": [
    "# Teams of interest Manchester City, Arsenal, Manchester United, New castle, liver pool, Brighton, Aston Villa, Nottingham Forest, Everton,\n",
    "#Leicester City, Leeds, Leeds United, southampton.\n",
    "Teams = ['Arsenal', 'Manchester City', 'Manchester United', 'Newcastle', 'liverpool', 'Brighton', 'Aston Villa', 'Nottingham Forest', 'Everton',\n",
    "            'Leicester City', 'Leeds United', 'southampton']\n",
    "\n",
    "URLS = {'Arsenal': \"https://www.transfermarkt.co.uk/arsenal-fc/ausfallzeiten/verein/11?reldata=GB1%262022\",\n",
    "        'Manchester City': \"https://www.transfermarkt.co.uk/manchester-city/ausfallzeiten/verein/281?reldata=GB1%262022\",\n",
    "        'Manchester United':\"https://www.transfermarkt.co.uk/manchester-united/ausfallzeiten/verein/985?reldata=GB1%262022\", \n",
    "        'Newcastle': \"https://www.transfermarkt.co.uk/newcastle-united/ausfallzeiten/verein/762?reldata=GB1%262022\", \n",
    "        'liverpool':\"https://www.transfermarkt.co.uk/liverpool-fc/ausfallzeiten/verein/31?reldata=GB1%262022\", \n",
    "        'Brighton': \"https://www.transfermarkt.co.uk/brighton-amp-hove-albion/ausfallzeiten/verein/1237?reldata=GB1%262022\",\n",
    "        'Aston Villa': \"https://www.transfermarkt.co.uk/aston-villa/ausfallzeiten/verein/405?reldata=GB1%262022\",\n",
    "        'Nottingham Forest': \"https://www.transfermarkt.co.uk/nottingham-forest/ausfallzeiten/verein/703?reldata=GB1%262022\",\n",
    "        'Everton': \"https://www.transfermarkt.co.uk/everton-fc/ausfallzeiten/verein/29?reldata=GB1%262022\",\n",
    "        'Leicester City':\"https://www.transfermarkt.co.uk/leicester-city/ausfallzeiten/verein/1003?reldata=GB1%262022\",\n",
    "        'Leeds United': \"https://www.transfermarkt.co.uk/leeds-united/ausfallzeiten/verein/399?reldata=GB1%262022\",\n",
    "        'southampton':\"https://www.transfermarkt.co.uk/southampton-fc/ausfallzeiten/verein/180?reldata=GB1%262022\"}"
   ]
  },
  {
   "cell_type": "code",
   "execution_count": 9,
   "metadata": {},
   "outputs": [
    {
     "data": {
      "text/plain": [
       "'c:\\\\Users\\\\alexc\\\\anaconda3\\\\envs\\\\Project\\\\lib\\\\site-packages\\\\chromedriver_autoinstaller\\\\122\\\\chromedriver.exe'"
      ]
     },
     "execution_count": 9,
     "metadata": {},
     "output_type": "execute_result"
    }
   ],
   "source": [
    "#chromedriver_autoinstaller.install()"
   ]
  },
  {
   "cell_type": "code",
   "execution_count": 44,
   "metadata": {},
   "outputs": [],
   "source": [
    "table_titles= ['Team_Name', 'Player_Name', 'Position', 'Games_injured']\n",
    "df2=pd.DataFrame(columns = table_titles)\n",
    "df2\n",
    "for team in Teams:\n",
    "    driver = webdriver.Chrome()\n",
    "    driver.get(URLS[team])\n",
    "    html = driver.page_source\n",
    "    soup = BeautifulSoup(html, 'html.parser')\n",
    "    player_rows = soup.find_all('tr')\n",
    "    for player in player_rows[2:]:\n",
    "        player_name = player.find('td', class_='hauptlink no-border-rechts wsnw').text\n",
    "        player_postion = player.find('td', class_='ausfallzeiten_pos no-border-links zentriert').text\n",
    "        player_Injury_1 = player.find_all('td', class_='zentriert ausfallzeiten_r afz')\n",
    "        player_Injury_2 = player.find_all('td', class_='zentriert ausfallzeiten_v bg_rot_65 afz')\n",
    "        total_injury= len(player_Injury_1) + len(player_Injury_2)\n",
    "        individual_row_data =[team, player_name, player_postion, total_injury]\n",
    "        # print(individual_row_data)\n",
    "        length = len(df2)\n",
    "        df2.loc[length] = individual_row_data\n",
    "\n",
    "    driver.quit()    "
   ]
  },
  {
   "cell_type": "code",
   "execution_count": 45,
   "metadata": {},
   "outputs": [
    {
     "data": {
      "text/html": [
       "<div>\n",
       "<style scoped>\n",
       "    .dataframe tbody tr th:only-of-type {\n",
       "        vertical-align: middle;\n",
       "    }\n",
       "\n",
       "    .dataframe tbody tr th {\n",
       "        vertical-align: top;\n",
       "    }\n",
       "\n",
       "    .dataframe thead th {\n",
       "        text-align: right;\n",
       "    }\n",
       "</style>\n",
       "<table border=\"1\" class=\"dataframe\">\n",
       "  <thead>\n",
       "    <tr style=\"text-align: right;\">\n",
       "      <th></th>\n",
       "      <th>Team_Name</th>\n",
       "      <th>Player_Name</th>\n",
       "      <th>Position</th>\n",
       "      <th>Games_injured</th>\n",
       "    </tr>\n",
       "  </thead>\n",
       "  <tbody>\n",
       "    <tr>\n",
       "      <th>0</th>\n",
       "      <td>Arsenal</td>\n",
       "      <td>Aaron Ramsdale</td>\n",
       "      <td>GK</td>\n",
       "      <td>0</td>\n",
       "    </tr>\n",
       "    <tr>\n",
       "      <th>1</th>\n",
       "      <td>Arsenal</td>\n",
       "      <td>Matt Turner</td>\n",
       "      <td>GK</td>\n",
       "      <td>1</td>\n",
       "    </tr>\n",
       "    <tr>\n",
       "      <th>2</th>\n",
       "      <td>Arsenal</td>\n",
       "      <td>Karl Hein</td>\n",
       "      <td>GK</td>\n",
       "      <td>33</td>\n",
       "    </tr>\n",
       "    <tr>\n",
       "      <th>3</th>\n",
       "      <td>Arsenal</td>\n",
       "      <td>James Hillson</td>\n",
       "      <td>GK</td>\n",
       "      <td>23</td>\n",
       "    </tr>\n",
       "    <tr>\n",
       "      <th>4</th>\n",
       "      <td>Arsenal</td>\n",
       "      <td>William Saliba</td>\n",
       "      <td>CB</td>\n",
       "      <td>11</td>\n",
       "    </tr>\n",
       "    <tr>\n",
       "      <th>...</th>\n",
       "      <td>...</td>\n",
       "      <td>...</td>\n",
       "      <td>...</td>\n",
       "      <td>...</td>\n",
       "    </tr>\n",
       "    <tr>\n",
       "      <th>502</th>\n",
       "      <td>southampton</td>\n",
       "      <td>Paul Onuachu</td>\n",
       "      <td>CF</td>\n",
       "      <td>3</td>\n",
       "    </tr>\n",
       "    <tr>\n",
       "      <th>503</th>\n",
       "      <td>southampton</td>\n",
       "      <td>Sékou Mara</td>\n",
       "      <td>CF</td>\n",
       "      <td>5</td>\n",
       "    </tr>\n",
       "    <tr>\n",
       "      <th>504</th>\n",
       "      <td>southampton</td>\n",
       "      <td>Dan Nlundulu</td>\n",
       "      <td>CF</td>\n",
       "      <td>0</td>\n",
       "    </tr>\n",
       "    <tr>\n",
       "      <th>505</th>\n",
       "      <td>southampton</td>\n",
       "      <td>Dom Ballard</td>\n",
       "      <td>CF</td>\n",
       "      <td>12</td>\n",
       "    </tr>\n",
       "    <tr>\n",
       "      <th>506</th>\n",
       "      <td>southampton</td>\n",
       "      <td>Jimmy-Jay Morgan</td>\n",
       "      <td>CF</td>\n",
       "      <td>5</td>\n",
       "    </tr>\n",
       "  </tbody>\n",
       "</table>\n",
       "<p>507 rows × 4 columns</p>\n",
       "</div>"
      ],
      "text/plain": [
       "       Team_Name       Player_Name Position  Games_injured\n",
       "0        Arsenal    Aaron Ramsdale       GK              0\n",
       "1        Arsenal       Matt Turner       GK              1\n",
       "2        Arsenal         Karl Hein       GK             33\n",
       "3        Arsenal     James Hillson       GK             23\n",
       "4        Arsenal    William Saliba       CB             11\n",
       "..           ...               ...      ...            ...\n",
       "502  southampton      Paul Onuachu       CF              3\n",
       "503  southampton        Sékou Mara       CF              5\n",
       "504  southampton      Dan Nlundulu       CF              0\n",
       "505  southampton       Dom Ballard       CF             12\n",
       "506  southampton  Jimmy-Jay Morgan       CF              5\n",
       "\n",
       "[507 rows x 4 columns]"
      ]
     },
     "execution_count": 45,
     "metadata": {},
     "output_type": "execute_result"
    }
   ],
   "source": [
    "df2"
   ]
  },
  {
   "cell_type": "code",
   "execution_count": 47,
   "metadata": {},
   "outputs": [],
   "source": [
    "df2.to_csv(r'..\\Data\\22_23_plteam_injury.csv', index=False)"
   ]
  }
 ],
 "metadata": {
  "kernelspec": {
   "display_name": "base",
   "language": "python",
   "name": "python3"
  },
  "language_info": {
   "codemirror_mode": {
    "name": "ipython",
    "version": 3
   },
   "file_extension": ".py",
   "mimetype": "text/x-python",
   "name": "python",
   "nbconvert_exporter": "python",
   "pygments_lexer": "ipython3",
   "version": "3.10.13"
  }
 },
 "nbformat": 4,
 "nbformat_minor": 2
}
