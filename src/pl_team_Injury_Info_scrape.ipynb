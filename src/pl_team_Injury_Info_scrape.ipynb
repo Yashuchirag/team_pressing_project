{
 "cells": [
  {
   "cell_type": "markdown",
   "metadata": {},
   "source": [
    "### Extracting information about player injuries"
   ]
  },
  {
   "cell_type": "code",
   "execution_count": 2,
   "metadata": {},
   "outputs": [],
   "source": [
    "#import the required libraries\n",
    "from bs4 import BeautifulSoup\n",
    "import pandas as pd\n",
    "from selenium import webdriver\n",
    "import chromedriver_autoinstaller\n"
   ]
  },
  {
   "cell_type": "code",
   "execution_count": 51,
   "metadata": {},
   "outputs": [],
   "source": [
    "# Teams of interest Manchester City, Arsenal, Manchester United, New castle, liver pool, Brighton, Aston Villa, Nottingham Forest, Everton,\n",
    "#Leicester City, Leeds, Leeds United, southampton.\n",
    "Teams = ['Arsenal', 'Manchester City', 'Manchester United', 'Newcastle', 'liverpool', 'Brighton', 'Aston Villa', 'Nottingham Forest', 'Everton',\n",
    "            'Leicester City', 'Leeds United', 'southampton']\n",
    "\n",
    "Years = list(range(2004, 2024))\n",
    "\n",
    "URLS = {'Arsenal': \"https://www.transfermarkt.co.uk/arsenal-fc/ausfallzeiten/verein/11?reldata=GB1%262022\",\n",
    "        'Manchester City': \"https://www.transfermarkt.co.uk/manchester-city/ausfallzeiten/verein/281?reldata=GB1%262022\",\n",
    "        'Manchester United':\"https://www.transfermarkt.co.uk/manchester-united/ausfallzeiten/verein/985?reldata=GB1%262022\", \n",
    "        'Newcastle': \"https://www.transfermarkt.co.uk/newcastle-united/ausfallzeiten/verein/762?reldata=GB1%262022\", \n",
    "        'liverpool':\"https://www.transfermarkt.co.uk/liverpool-fc/ausfallzeiten/verein/31?reldata=GB1%262022\", \n",
    "        'Brighton': \"https://www.transfermarkt.co.uk/brighton-amp-hove-albion/ausfallzeiten/verein/1237?reldata=GB1%262022\",\n",
    "        'Aston Villa': \"https://www.transfermarkt.co.uk/aston-villa/ausfallzeiten/verein/405?reldata=GB1%262022\",\n",
    "        'Nottingham Forest': \"https://www.transfermarkt.co.uk/nottingham-forest/ausfallzeiten/verein/703?reldata=GB1%262022\",\n",
    "        'Everton': \"https://www.transfermarkt.co.uk/everton-fc/ausfallzeiten/verein/29?reldata=GB1%262022\",\n",
    "        'Leicester City':\"https://www.transfermarkt.co.uk/leicester-city/ausfallzeiten/verein/1003?reldata=GB1%262022\",\n",
    "        'Leeds United': \"https://www.transfermarkt.co.uk/leeds-united/ausfallzeiten/verein/399?reldata=GB1%262022\",\n",
    "        'southampton':\"https://www.transfermarkt.co.uk/southampton-fc/ausfallzeiten/verein/180?reldata=GB1%262022\"}"
   ]
  },
  {
   "cell_type": "code",
   "execution_count": null,
   "metadata": {},
   "outputs": [],
   "source": [
    "# make a dict wit key of years and value of dict with team names in that season of premier league."
   ]
  },
  {
   "cell_type": "code",
   "execution_count": 5,
   "metadata": {},
   "outputs": [
    {
     "name": "stdout",
     "output_type": "stream",
     "text": [
      "https://www.transfermarkt.co.uk/arsenal-fc/ausfallzeiten/verein/11?reldata=GB1%26\n"
     ]
    }
   ],
   "source": [
    "test_string= \"https://www.transfermarkt.co.uk/arsenal-fc/ausfallzeiten/verein/11?reldata=GB1%262022\"\n",
    "print(test_string[0:-4])"
   ]
  },
  {
   "cell_type": "code",
   "execution_count": 1,
   "metadata": {},
   "outputs": [
    {
     "data": {
      "text/plain": [
       "[2000,\n",
       " 2001,\n",
       " 2002,\n",
       " 2003,\n",
       " 2004,\n",
       " 2005,\n",
       " 2006,\n",
       " 2007,\n",
       " 2008,\n",
       " 2009,\n",
       " 2010,\n",
       " 2011,\n",
       " 2012,\n",
       " 2013,\n",
       " 2014,\n",
       " 2015,\n",
       " 2016,\n",
       " 2017,\n",
       " 2018,\n",
       " 2019,\n",
       " 2020,\n",
       " 2021,\n",
       " 2022]"
      ]
     },
     "execution_count": 1,
     "metadata": {},
     "output_type": "execute_result"
    }
   ],
   "source": [
    "list(range(2000, 2023))"
   ]
  },
  {
   "cell_type": "code",
   "execution_count": 9,
   "metadata": {},
   "outputs": [
    {
     "data": {
      "text/plain": [
       "'c:\\\\Users\\\\alexc\\\\anaconda3\\\\envs\\\\Project\\\\lib\\\\site-packages\\\\chromedriver_autoinstaller\\\\122\\\\chromedriver.exe'"
      ]
     },
     "execution_count": 9,
     "metadata": {},
     "output_type": "execute_result"
    }
   ],
   "source": [
    "#chromedriver_autoinstaller.install()"
   ]
  },
  {
   "cell_type": "code",
   "execution_count": 44,
   "metadata": {},
   "outputs": [],
   "source": [
    "table_titles= ['Team_Name', 'Player_Name', 'Position', 'Games_injured']\n",
    "df2=pd.DataFrame(columns = table_titles)\n",
    "df2\n",
    "for team in Teams:\n",
    "    driver = webdriver.Chrome()\n",
    "    driver.get(URLS[team])\n",
    "    html = driver.page_source\n",
    "    soup = BeautifulSoup(html, 'html.parser')\n",
    "    player_rows = soup.find_all('tr')\n",
    "    for player in player_rows[2:]:\n",
    "        player_name = player.find('td', class_='hauptlink no-border-rechts wsnw').text\n",
    "        player_postion = player.find('td', class_='ausfallzeiten_pos no-border-links zentriert').text\n",
    "        player_Injury_1 = player.find_all('td', class_='zentriert ausfallzeiten_r afz')\n",
    "        player_Injury_2 = player.find_all('td', class_='zentriert ausfallzeiten_v bg_rot_65 afz')\n",
    "        total_injury= len(player_Injury_1) + len(player_Injury_2)\n",
    "        individual_row_data =[team, player_name, player_postion, total_injury]\n",
    "        # print(individual_row_data)\n",
    "        length = len(df2)\n",
    "        df2.loc[length] = individual_row_data\n",
    "\n",
    "    driver.quit()    "
   ]
  },
  {
   "cell_type": "code",
   "execution_count": 45,
   "metadata": {},
   "outputs": [
    {
     "data": {
      "text/html": [
       "<div>\n",
       "<style scoped>\n",
       "    .dataframe tbody tr th:only-of-type {\n",
       "        vertical-align: middle;\n",
       "    }\n",
       "\n",
       "    .dataframe tbody tr th {\n",
       "        vertical-align: top;\n",
       "    }\n",
       "\n",
       "    .dataframe thead th {\n",
       "        text-align: right;\n",
       "    }\n",
       "</style>\n",
       "<table border=\"1\" class=\"dataframe\">\n",
       "  <thead>\n",
       "    <tr style=\"text-align: right;\">\n",
       "      <th></th>\n",
       "      <th>Team_Name</th>\n",
       "      <th>Player_Name</th>\n",
       "      <th>Position</th>\n",
       "      <th>Games_injured</th>\n",
       "    </tr>\n",
       "  </thead>\n",
       "  <tbody>\n",
       "    <tr>\n",
       "      <th>0</th>\n",
       "      <td>Arsenal</td>\n",
       "      <td>Aaron Ramsdale</td>\n",
       "      <td>GK</td>\n",
       "      <td>0</td>\n",
       "    </tr>\n",
       "    <tr>\n",
       "      <th>1</th>\n",
       "      <td>Arsenal</td>\n",
       "      <td>Matt Turner</td>\n",
       "      <td>GK</td>\n",
       "      <td>1</td>\n",
       "    </tr>\n",
       "    <tr>\n",
       "      <th>2</th>\n",
       "      <td>Arsenal</td>\n",
       "      <td>Karl Hein</td>\n",
       "      <td>GK</td>\n",
       "      <td>33</td>\n",
       "    </tr>\n",
       "    <tr>\n",
       "      <th>3</th>\n",
       "      <td>Arsenal</td>\n",
       "      <td>James Hillson</td>\n",
       "      <td>GK</td>\n",
       "      <td>23</td>\n",
       "    </tr>\n",
       "    <tr>\n",
       "      <th>4</th>\n",
       "      <td>Arsenal</td>\n",
       "      <td>William Saliba</td>\n",
       "      <td>CB</td>\n",
       "      <td>11</td>\n",
       "    </tr>\n",
       "    <tr>\n",
       "      <th>...</th>\n",
       "      <td>...</td>\n",
       "      <td>...</td>\n",
       "      <td>...</td>\n",
       "      <td>...</td>\n",
       "    </tr>\n",
       "    <tr>\n",
       "      <th>502</th>\n",
       "      <td>southampton</td>\n",
       "      <td>Paul Onuachu</td>\n",
       "      <td>CF</td>\n",
       "      <td>3</td>\n",
       "    </tr>\n",
       "    <tr>\n",
       "      <th>503</th>\n",
       "      <td>southampton</td>\n",
       "      <td>Sékou Mara</td>\n",
       "      <td>CF</td>\n",
       "      <td>5</td>\n",
       "    </tr>\n",
       "    <tr>\n",
       "      <th>504</th>\n",
       "      <td>southampton</td>\n",
       "      <td>Dan Nlundulu</td>\n",
       "      <td>CF</td>\n",
       "      <td>0</td>\n",
       "    </tr>\n",
       "    <tr>\n",
       "      <th>505</th>\n",
       "      <td>southampton</td>\n",
       "      <td>Dom Ballard</td>\n",
       "      <td>CF</td>\n",
       "      <td>12</td>\n",
       "    </tr>\n",
       "    <tr>\n",
       "      <th>506</th>\n",
       "      <td>southampton</td>\n",
       "      <td>Jimmy-Jay Morgan</td>\n",
       "      <td>CF</td>\n",
       "      <td>5</td>\n",
       "    </tr>\n",
       "  </tbody>\n",
       "</table>\n",
       "<p>507 rows × 4 columns</p>\n",
       "</div>"
      ],
      "text/plain": [
       "       Team_Name       Player_Name Position  Games_injured\n",
       "0        Arsenal    Aaron Ramsdale       GK              0\n",
       "1        Arsenal       Matt Turner       GK              1\n",
       "2        Arsenal         Karl Hein       GK             33\n",
       "3        Arsenal     James Hillson       GK             23\n",
       "4        Arsenal    William Saliba       CB             11\n",
       "..           ...               ...      ...            ...\n",
       "502  southampton      Paul Onuachu       CF              3\n",
       "503  southampton        Sékou Mara       CF              5\n",
       "504  southampton      Dan Nlundulu       CF              0\n",
       "505  southampton       Dom Ballard       CF             12\n",
       "506  southampton  Jimmy-Jay Morgan       CF              5\n",
       "\n",
       "[507 rows x 4 columns]"
      ]
     },
     "execution_count": 45,
     "metadata": {},
     "output_type": "execute_result"
    }
   ],
   "source": [
    "df2"
   ]
  },
  {
   "cell_type": "code",
   "execution_count": 47,
   "metadata": {},
   "outputs": [],
   "source": [
    "#df2.to_csv(r'..\\Data\\22_23_plteam_injury.csv', index=False)"
   ]
  },
  {
   "cell_type": "code",
   "execution_count": 45,
   "metadata": {},
   "outputs": [
    {
     "name": "stdout",
     "output_type": "stream",
     "text": [
      "{'manchester-city': '281', 'fc-arsenal': '11', 'fc-chelsea': '631', 'fc-liverpool': '31', 'tottenham-hotspur': '148', 'manchester-united': '985', 'aston-villa': '405', 'newcastle-united': '762', 'brighton-amp-hove-albion': '1237', 'west-ham-united': '379', 'fc-brentford': '1148', 'crystal-palace': '873', 'nottingham-forest': '703', 'afc-bournemouth': '989', 'fc-everton': '29', 'wolverhampton-wanderers': '543', 'fc-fulham': '931', 'fc-burnley': '1132', 'leicester-city': '1003', 'leeds-united': '399', 'fc-southampton': '180', 'sheffield-united': '350', 'luton-town': '1031', 'hull-city': '3008', 'afc-sunderland': '289', 'fc-middlesbrough': '641', 'norwich-city': '1123', 'fc-watford': '1010', 'stoke-city': '512', 'coventry-city': '990', 'west-bromwich-albion': '984', 'blackburn-rovers': '164', 'birmingham-city': '337', 'ipswich-town': '677', 'fc-millwall': '1028', 'manchester-united-uefa-u19': '41575', 'bristol-city': '698', 'preston-north-end': '466', 'queens-park-rangers': '1039', 'huddersfield-town': '1110', 'plymouth-argyle': '2262', 'peterborough-united': '1072', 'sheffield-wednesday': '1035', 'fc-arsenal-u23': '9249', 'fc-arsenal-uefa-u19': '41571', 'fc-chelsea-u23': '9250', 'bolton-wanderers': '355', 'derby-county': '22', 'manchester-city-u23': '9265', 'fc-portsmouth': '1020'}\n"
     ]
    }
   ],
   "source": [
    "URL_1 = [\"https://www.transfermarkt.co.uk/vereins-statistik/wertvollstemannschaften/marktwertetop/plus/0/galerie/0?land_id=189&kontinent_id=0&yt0=Show\", \n",
    "         \"https://www.transfermarkt.co.uk/vereins-statistik/wertvollstemannschaften/marktwertetop/plus/ajax/yw1/land_id/189/kontinent_id/0/yt0/Show/0//page/2\"]\n",
    "team_link_number = {}\n",
    "team_actual_name ={}\n",
    "for url in URL_1:\n",
    "    driver = webdriver.Chrome()\n",
    "    driver.get(url)\n",
    "    html = driver.page_source\n",
    "    soup = BeautifulSoup(html, 'html.parser')\n",
    "    team_table = soup.find('div', class_=\"responsive-table\")\n",
    "    team_rows= team_table.find_all(\"td\", class_=\"zentriert no-border-rechts\")\n",
    "    for team in team_rows:\n",
    "        team_link = team.find(\"a\").get('href')\n",
    "        keys = team_link.split(\"/\")[1]\n",
    "        team_link_number[keys] = team_link.split(\"/\")[4]\n",
    "        team_actual_name[keys] = team.find(\"a\").get('title')\n",
    "    driver.quit()\n",
    "\n",
    "print(team_link_number)\n"
   ]
  },
  {
   "cell_type": "code",
   "execution_count": 46,
   "metadata": {},
   "outputs": [
    {
     "data": {
      "text/plain": [
       "{'manchester-city': 'Manchester City',\n",
       " 'fc-arsenal': 'Arsenal FC',\n",
       " 'fc-chelsea': 'Chelsea FC',\n",
       " 'fc-liverpool': 'Liverpool FC',\n",
       " 'tottenham-hotspur': 'Tottenham Hotspur',\n",
       " 'manchester-united': 'Manchester United',\n",
       " 'aston-villa': 'Aston Villa',\n",
       " 'newcastle-united': 'Newcastle United',\n",
       " 'brighton-amp-hove-albion': 'Brighton & Hove Albion',\n",
       " 'west-ham-united': 'West Ham United',\n",
       " 'fc-brentford': 'Brentford FC',\n",
       " 'crystal-palace': 'Crystal Palace',\n",
       " 'nottingham-forest': 'Nottingham Forest',\n",
       " 'afc-bournemouth': 'AFC Bournemouth',\n",
       " 'fc-everton': 'Everton FC',\n",
       " 'wolverhampton-wanderers': 'Wolverhampton Wanderers',\n",
       " 'fc-fulham': 'Fulham FC',\n",
       " 'fc-burnley': 'Burnley FC',\n",
       " 'leicester-city': 'Leicester City',\n",
       " 'leeds-united': 'Leeds United',\n",
       " 'fc-southampton': 'Southampton FC',\n",
       " 'sheffield-united': 'Sheffield United',\n",
       " 'luton-town': 'Luton Town',\n",
       " 'hull-city': 'Hull City',\n",
       " 'afc-sunderland': 'Sunderland AFC',\n",
       " 'fc-middlesbrough': 'Middlesbrough FC',\n",
       " 'norwich-city': 'Norwich City',\n",
       " 'fc-watford': 'Watford FC',\n",
       " 'stoke-city': 'Stoke City',\n",
       " 'coventry-city': 'Coventry City',\n",
       " 'west-bromwich-albion': 'West Bromwich Albion',\n",
       " 'blackburn-rovers': 'Blackburn Rovers',\n",
       " 'birmingham-city': 'Birmingham City',\n",
       " 'ipswich-town': 'Ipswich Town',\n",
       " 'fc-millwall': 'Millwall FC',\n",
       " 'manchester-united-uefa-u19': 'Manchester United UEFA U19',\n",
       " 'bristol-city': 'Bristol City',\n",
       " 'preston-north-end': 'Preston North End',\n",
       " 'queens-park-rangers': 'Queens Park Rangers',\n",
       " 'huddersfield-town': 'Huddersfield Town',\n",
       " 'plymouth-argyle': 'Plymouth Argyle',\n",
       " 'peterborough-united': 'Peterborough United',\n",
       " 'sheffield-wednesday': 'Sheffield Wednesday',\n",
       " 'fc-arsenal-u23': 'Arsenal FC U21',\n",
       " 'fc-arsenal-uefa-u19': 'Arsenal FC UEFA U19',\n",
       " 'fc-chelsea-u23': 'Chelsea FC U21',\n",
       " 'bolton-wanderers': 'Bolton Wanderers',\n",
       " 'derby-county': 'Derby County',\n",
       " 'manchester-city-u23': 'Manchester City U21',\n",
       " 'fc-portsmouth': 'Portsmouth FC'}"
      ]
     },
     "execution_count": 46,
     "metadata": {},
     "output_type": "execute_result"
    }
   ],
   "source": [
    "team_actual_name"
   ]
  },
  {
   "cell_type": "code",
   "execution_count": 15,
   "metadata": {},
   "outputs": [],
   "source": [
    "soup = BeautifulSoup(html, 'html.parser')\n",
    "team_table = soup.find_all('div', class_=\"responsive-table\")"
   ]
  },
  {
   "cell_type": "code",
   "execution_count": 30,
   "metadata": {},
   "outputs": [],
   "source": [
    "team_rows= team_table[0].find_all(\"td\", class_=\"zentriert no-border-rechts\")"
   ]
  },
  {
   "cell_type": "code",
   "execution_count": 32,
   "metadata": {},
   "outputs": [
    {
     "data": {
      "text/plain": [
       "[<td class=\"zentriert no-border-rechts\"><a href=\"/manchester-city/startseite/verein/281/saison_id/2023\" title=\"Manchester City\"><img alt=\"Manchester City\" class=\"tiny_wappen\" src=\"https://tmssl.akamaized.net/images/wappen/tiny/281.png?lm=1467356331\" title=\"Manchester City\"/></a></td>,\n",
       " <td class=\"zentriert no-border-rechts\"><a href=\"/fc-arsenal/startseite/verein/11/saison_id/2023\" title=\"Arsenal FC\"><img alt=\"Arsenal FC\" class=\"tiny_wappen\" src=\"https://tmssl.akamaized.net/images/wappen/tiny/11.png?lm=1489787850\" title=\"Arsenal FC\"/></a></td>,\n",
       " <td class=\"zentriert no-border-rechts\"><a href=\"/fc-chelsea/startseite/verein/631/saison_id/2023\" title=\"Chelsea FC\"><img alt=\"Chelsea FC\" class=\"tiny_wappen\" src=\"https://tmssl.akamaized.net/images/wappen/tiny/631.png?lm=1682435911\" title=\"Chelsea FC\"/></a></td>,\n",
       " <td class=\"zentriert no-border-rechts\"><a href=\"/fc-liverpool/startseite/verein/31/saison_id/2023\" title=\"Liverpool FC\"><img alt=\"Liverpool FC\" class=\"tiny_wappen\" src=\"https://tmssl.akamaized.net/images/wappen/tiny/31.png?lm=1456567819\" title=\"Liverpool FC\"/></a></td>,\n",
       " <td class=\"zentriert no-border-rechts\"><a href=\"/tottenham-hotspur/startseite/verein/148/saison_id/2023\" title=\"Tottenham Hotspur\"><img alt=\"Tottenham Hotspur\" class=\"tiny_wappen\" src=\"https://tmssl.akamaized.net/images/wappen/tiny/148.png?lm=1544345801\" title=\"Tottenham Hotspur\"/></a></td>,\n",
       " <td class=\"zentriert no-border-rechts\"><a href=\"/manchester-united/startseite/verein/985/saison_id/2023\" title=\"Manchester United\"><img alt=\"Manchester United\" class=\"tiny_wappen\" src=\"https://tmssl.akamaized.net/images/wappen/tiny/985.png?lm=1457975903\" title=\"Manchester United\"/></a></td>,\n",
       " <td class=\"zentriert no-border-rechts\"><a href=\"/aston-villa/startseite/verein/405/saison_id/2023\" title=\"Aston Villa\"><img alt=\"Aston Villa\" class=\"tiny_wappen\" src=\"https://tmssl.akamaized.net/images/wappen/tiny/405.png?lm=1469443765\" title=\"Aston Villa\"/></a></td>,\n",
       " <td class=\"zentriert no-border-rechts\"><a href=\"/newcastle-united/startseite/verein/762/saison_id/2023\" title=\"Newcastle United\"><img alt=\"Newcastle United\" class=\"tiny_wappen\" src=\"https://tmssl.akamaized.net/images/wappen/tiny/762.png?lm=1472921161\" title=\"Newcastle United\"/></a></td>,\n",
       " <td class=\"zentriert no-border-rechts\"><a href=\"/brighton-amp-hove-albion/startseite/verein/1237/saison_id/2023\" title=\"Brighton &amp; Hove Albion\"><img alt=\"Brighton &amp; Hove Albion\" class=\"tiny_wappen\" src=\"https://tmssl.akamaized.net/images/wappen/tiny/1237.png?lm=1492718902\" title=\"Brighton &amp; Hove Albion\"/></a></td>,\n",
       " <td class=\"zentriert no-border-rechts\"><a href=\"/west-ham-united/startseite/verein/379/saison_id/2023\" title=\"West Ham United\"><img alt=\"West Ham United\" class=\"tiny_wappen\" src=\"https://tmssl.akamaized.net/images/wappen/tiny/379.png?lm=1464675260\" title=\"West Ham United\"/></a></td>,\n",
       " <td class=\"zentriert no-border-rechts\"><a href=\"/fc-brentford/startseite/verein/1148/saison_id/2023\" title=\"Brentford FC\"><img alt=\"Brentford FC\" class=\"tiny_wappen\" src=\"https://tmssl.akamaized.net/images/wappen/tiny/1148.png?lm=1625150543\" title=\"Brentford FC\"/></a></td>,\n",
       " <td class=\"zentriert no-border-rechts\"><a href=\"/crystal-palace/startseite/verein/873/saison_id/2023\" title=\"Crystal Palace\"><img alt=\"Crystal Palace\" class=\"tiny_wappen\" src=\"https://tmssl.akamaized.net/images/wappen/tiny/873.png?lm=1457723287\" title=\"Crystal Palace\"/></a></td>,\n",
       " <td class=\"zentriert no-border-rechts\"><a href=\"/nottingham-forest/startseite/verein/703/saison_id/2023\" title=\"Nottingham Forest\"><img alt=\"Nottingham Forest\" class=\"tiny_wappen\" src=\"https://tmssl.akamaized.net/images/wappen/tiny/703.png?lm=1598890289\" title=\"Nottingham Forest\"/></a></td>,\n",
       " <td class=\"zentriert no-border-rechts\"><a href=\"/afc-bournemouth/startseite/verein/989/saison_id/2023\" title=\"AFC Bournemouth\"><img alt=\"AFC Bournemouth\" class=\"tiny_wappen\" src=\"https://tmssl.akamaized.net/images/wappen/tiny/989.png?lm=1457991811\" title=\"AFC Bournemouth\"/></a></td>,\n",
       " <td class=\"zentriert no-border-rechts\"><a href=\"/fc-everton/startseite/verein/29/saison_id/2023\" title=\"Everton FC\"><img alt=\"Everton FC\" class=\"tiny_wappen\" src=\"https://tmssl.akamaized.net/images/wappen/tiny/29.png?lm=1445949846\" title=\"Everton FC\"/></a></td>,\n",
       " <td class=\"zentriert no-border-rechts\"><a href=\"/wolverhampton-wanderers/startseite/verein/543/saison_id/2023\" title=\"Wolverhampton Wanderers\"><img alt=\"Wolverhampton Wanderers\" class=\"tiny_wappen\" src=\"https://tmssl.akamaized.net/images/wappen/tiny/543.png?lm=1467496784\" title=\"Wolverhampton Wanderers\"/></a></td>,\n",
       " <td class=\"zentriert no-border-rechts\"><a href=\"/fc-fulham/startseite/verein/931/saison_id/2023\" title=\"Fulham FC\"><img alt=\"Fulham FC\" class=\"tiny_wappen\" src=\"https://tmssl.akamaized.net/images/wappen/tiny/931.png?lm=1556831687\" title=\"Fulham FC\"/></a></td>,\n",
       " <td class=\"zentriert no-border-rechts\"><a href=\"/fc-burnley/startseite/verein/1132/saison_id/2023\" title=\"Burnley FC\"><img alt=\"Burnley FC\" class=\"tiny_wappen\" src=\"https://tmssl.akamaized.net/images/wappen/tiny/1132.png?lm=1686818840\" title=\"Burnley FC\"/></a></td>,\n",
       " <td class=\"zentriert no-border-rechts\"><a href=\"/leicester-city/startseite/verein/1003/saison_id/2023\" title=\"Leicester City\"><img alt=\"Leicester City\" class=\"tiny_wappen\" src=\"https://tmssl.akamaized.net/images/wappen/tiny/1003.png?lm=1472229265\" title=\"Leicester City\"/></a></td>,\n",
       " <td class=\"zentriert no-border-rechts\"><a href=\"/leeds-united/startseite/verein/399/saison_id/2023\" title=\"Leeds United\"><img alt=\"Leeds United\" class=\"tiny_wappen\" src=\"https://tmssl.akamaized.net/images/wappen/tiny/399.png?lm=1645652224\" title=\"Leeds United\"/></a></td>,\n",
       " <td class=\"zentriert no-border-rechts\"><a href=\"/fc-southampton/startseite/verein/180/saison_id/2023\" title=\"Southampton FC\"><img alt=\"Southampton FC\" class=\"tiny_wappen\" src=\"https://tmssl.akamaized.net/images/wappen/tiny/180.png?lm=1444560086\" title=\"Southampton FC\"/></a></td>,\n",
       " <td class=\"zentriert no-border-rechts\"><a href=\"/sheffield-united/startseite/verein/350/saison_id/2023\" title=\"Sheffield United\"><img alt=\"Sheffield United\" class=\"tiny_wappen\" src=\"https://tmssl.akamaized.net/images/wappen/tiny/350.png?lm=1409254138\" title=\"Sheffield United\"/></a></td>,\n",
       " <td class=\"zentriert no-border-rechts\"><a href=\"/luton-town/startseite/verein/1031/saison_id/2023\" title=\"Luton Town\"><img alt=\"Luton Town\" class=\"tiny_wappen\" src=\"https://tmssl.akamaized.net/images/wappen/tiny/1031.png?lm=1457723228\" title=\"Luton Town\"/></a></td>,\n",
       " <td class=\"zentriert no-border-rechts\"><a href=\"/hull-city/startseite/verein/3008/saison_id/2023\" title=\"Hull City\"><img alt=\"Hull City\" class=\"tiny_wappen\" src=\"https://tmssl.akamaized.net/images/wappen/tiny/3008.png?lm=1562662491\" title=\"Hull City\"/></a></td>,\n",
       " <td class=\"zentriert no-border-rechts\"><a href=\"/afc-sunderland/startseite/verein/289/saison_id/2023\" title=\"Sunderland AFC\"><img alt=\"Sunderland AFC\" class=\"tiny_wappen\" src=\"https://tmssl.akamaized.net/images/wappen/tiny/289.png?lm=1485645633\" title=\"Sunderland AFC\"/></a></td>]"
      ]
     },
     "execution_count": 32,
     "metadata": {},
     "output_type": "execute_result"
    }
   ],
   "source": [
    "team_rows"
   ]
  },
  {
   "cell_type": "code",
   "execution_count": 42,
   "metadata": {},
   "outputs": [
    {
     "name": "stdout",
     "output_type": "stream",
     "text": [
      "{'manchester-city': '281', 'fc-arsenal': '11', 'fc-chelsea': '631', 'fc-liverpool': '31', 'tottenham-hotspur': '148', 'manchester-united': '985', 'aston-villa': '405', 'newcastle-united': '762', 'brighton-amp-hove-albion': '1237', 'west-ham-united': '379', 'fc-brentford': '1148', 'crystal-palace': '873', 'nottingham-forest': '703', 'afc-bournemouth': '989', 'fc-everton': '29', 'wolverhampton-wanderers': '543', 'fc-fulham': '931', 'fc-burnley': '1132', 'leicester-city': '1003', 'leeds-united': '399', 'fc-southampton': '180', 'sheffield-united': '350', 'luton-town': '1031', 'hull-city': '3008', 'afc-sunderland': '289'}\n"
     ]
    }
   ],
   "source": [
    "team_link_number = {}\n",
    "for team in team_rows:\n",
    "    team_link = team.find(\"a\").get('href')\n",
    "    keys = team_link.split(\"/\")[1]\n",
    "    team_link_number[keys] = team_link.split(\"/\")[4]\n",
    "\n",
    "# Now team_link_number will contain the desired key-value pairs\n",
    "print(team_link_number)"
   ]
  },
  {
   "cell_type": "code",
   "execution_count": 57,
   "metadata": {},
   "outputs": [],
   "source": [
    "#Get teams in each year.\n",
    "PL_team_url = \"https://www.transfermarkt.co.uk/premier-league/startseite/wettbewerb/GB1/plus/?saison_id=\""
   ]
  },
  {
   "cell_type": "code",
   "execution_count": 49,
   "metadata": {},
   "outputs": [
    {
     "data": {
      "text/plain": [
       "20"
      ]
     },
     "execution_count": 49,
     "metadata": {},
     "output_type": "execute_result"
    }
   ],
   "source": [
    "len(list(range(2004, 2024)))"
   ]
  },
  {
   "cell_type": "code",
   "execution_count": 59,
   "metadata": {},
   "outputs": [
    {
     "data": {
      "text/plain": [
       "'https://www.transfermarkt.co.uk/premier-league/startseite/wettbewerb/GB1/plus/?saison_id=2004'"
      ]
     },
     "execution_count": 59,
     "metadata": {},
     "output_type": "execute_result"
    }
   ],
   "source": [
    "PL_team_url + str(Years[1])"
   ]
  },
  {
   "cell_type": "code",
   "execution_count": 60,
   "metadata": {},
   "outputs": [],
   "source": [
    "driver = webdriver.Chrome()\n",
    "driver.get(PL_team_url + str(Years[1]))\n",
    "html = driver.page_source\n",
    "soup = BeautifulSoup(html, 'html.parser')"
   ]
  },
  {
   "cell_type": "code",
   "execution_count": 63,
   "metadata": {},
   "outputs": [],
   "source": [
    "team_table = soup.find('div', class_=\"responsive-table\")\n",
    "team_rows= team_table.find_all(\"td\", class_=\"zentriert no-border-rechts\")"
   ]
  },
  {
   "cell_type": "code",
   "execution_count": 67,
   "metadata": {},
   "outputs": [
    {
     "data": {
      "text/plain": [
       "['', 'fc-chelsea', 'startseite', 'verein', '631', 'saison_id', '2004']"
      ]
     },
     "execution_count": 67,
     "metadata": {},
     "output_type": "execute_result"
    }
   ],
   "source": [
    "team_rows[0].find('a').get('href').split(\"/\") #we need 1 and 4"
   ]
  },
  {
   "cell_type": "code",
   "execution_count": null,
   "metadata": {},
   "outputs": [],
   "source": [
    "\n",
    "team_actual_name ={}\n",
    "team_code_over_years = {}\n",
    "for year in Years:\n",
    "    team_link_number = {}\n",
    "    driver = webdriver.Chrome()\n",
    "    url_year = PL_team_url + str(year)\n",
    "    driver.get(url_year)\n",
    "    html = driver.page_source\n",
    "    soup = BeautifulSoup(html, 'html.parser')\n",
    "    team_table = soup.find('div', class_=\"responsive-table\")\n",
    "    team_rows= team_table.find_all(\"td\", class_=\"zentriert no-border-rechts\")\n",
    "    for team in team_rows:\n",
    "        team_link = team.find(\"a\").get('href')\n",
    "        keys = team_link.split(\"/\")[1]\n",
    "        team_link_number[keys] = team_link.split(\"/\")[4]\n",
    "    team_code_over_years[year] = team_link_number\n",
    "    driver.quit()\n",
    "\n",
    "print(team_code_over_years)"
   ]
  }
 ],
 "metadata": {
  "kernelspec": {
   "display_name": "base",
   "language": "python",
   "name": "python3"
  },
  "language_info": {
   "codemirror_mode": {
    "name": "ipython",
    "version": 3
   },
   "file_extension": ".py",
   "mimetype": "text/x-python",
   "name": "python",
   "nbconvert_exporter": "python",
   "pygments_lexer": "ipython3",
   "version": "3.10.13"
  }
 },
 "nbformat": 4,
 "nbformat_minor": 2
}
