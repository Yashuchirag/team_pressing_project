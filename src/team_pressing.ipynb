{
 "cells": [
  {
   "cell_type": "markdown",
   "id": "684bae4a",
   "metadata": {},
   "source": [
    "#### Group Members - Chirag Chandrashekar, Chris Alexander, Viveka Salinamakki"
   ]
  },
  {
   "cell_type": "markdown",
   "id": "8e85299a",
   "metadata": {},
   "source": [
    "\n",
    "<hr style=\"border: 5px solid #003262;\" />\n",
    "<hr style=\"border: 1px solid #fdb515;\" />\n",
    "\n",
    "## Importing the Data"
   ]
  },
  {
   "cell_type": "code",
   "execution_count": 1,
   "id": "051f4dcb",
   "metadata": {},
   "outputs": [
    {
     "name": "stderr",
     "output_type": "stream",
     "text": [
      "C:\\Users\\vivek\\anaconda3\\lib\\site-packages\\numpy\\_distributor_init.py:30: UserWarning: loaded more than 1 DLL from .libs:\n",
      "C:\\Users\\vivek\\anaconda3\\lib\\site-packages\\numpy\\.libs\\libopenblas.FB5AE2TYXYH2IJRDKGDGQ3XBKLKTF43H.gfortran-win_amd64.dll\n",
      "C:\\Users\\vivek\\anaconda3\\lib\\site-packages\\numpy\\.libs\\libopenblas.XWYDX2IKJW2NMTWSFYNGFUWKQU3LYTCZ.gfortran-win_amd64.dll\n",
      "  warnings.warn(\"loaded more than 1 DLL from .libs:\"\n"
     ]
    }
   ],
   "source": [
    "import pandas as pd\n",
    "import numpy as np\n",
    "\n",
    "import matplotlib.pyplot as plt\n",
    "import seaborn as sns\n",
    "\n",
    "from sklearn.decomposition import PCA\n",
    "from sklearn.model_selection import train_test_split\n",
    "from sklearn.preprocessing import StandardScaler\n",
    "from sklearn.linear_model import PoissonRegressor\n",
    "from sklearn.linear_model import LinearRegression\n",
    "from sklearn.svm import SVR\n",
    "from sklearn.neighbors import KNeighborsRegressor\n",
    "from sklearn.ensemble import RandomForestRegressor, GradientBoostingRegressor\n",
    "from sklearn.tree import DecisionTreeRegressor\n",
    "from sklearn.metrics import root_mean_squared_error, r2_score, max_error, explained_variance_score"
   ]
  },
  {
   "cell_type": "code",
   "execution_count": 2,
   "id": "e6bb8ab2",
   "metadata": {},
   "outputs": [],
   "source": [
    "seasons_list = [\n",
    "    '2004-2005',\n",
    "    '2005-2006',\n",
    "    '2006-2007',\n",
    "    '2007-2008',\n",
    "    '2008-2009',\n",
    "    '2009-2010',\n",
    "    '2010-2011',\n",
    "    '2011-2012',\n",
    "    '2012-2013',\n",
    "    '2013-2014',\n",
    "    '2014-2015',\n",
    "    '2015-2016',\n",
    "    '2016-2017',\n",
    "    '2017-2018',\n",
    "    '2018-2019',\n",
    "    '2019-2020',\n",
    "    '2020-2021',\n",
    "    '2021-2022',\n",
    "    '2022-2023',\n",
    "    '2023-2024'\n",
    "]"
   ]
  },
  {
   "cell_type": "code",
   "execution_count": 3,
   "id": "09465637",
   "metadata": {},
   "outputs": [],
   "source": [
    "# for season in seasons_list:\n",
    "pl_data_list = [pd.read_csv(f\"..\\Data\\pl_stats_{season}.csv\").assign(Season=season[0:4]).sort_values(by='Rk', axis=0) for season in seasons_list]"
   ]
  },
  {
   "cell_type": "code",
   "execution_count": 4,
   "id": "c5caee9c",
   "metadata": {},
   "outputs": [
    {
     "data": {
      "text/plain": [
       "134"
      ]
     },
     "execution_count": 4,
     "metadata": {},
     "output_type": "execute_result"
    }
   ],
   "source": [
    "pl_data = pd.concat(pl_data_list, ignore_index=True)\n",
    "len(pl_data.isna().sum()[pl_data.isna().sum()>200])"
   ]
  },
  {
   "cell_type": "code",
   "execution_count": 5,
   "id": "ea8673fc",
   "metadata": {},
   "outputs": [
    {
     "data": {
      "text/plain": [
       "(400, 197)"
      ]
     },
     "execution_count": 5,
     "metadata": {},
     "output_type": "execute_result"
    }
   ],
   "source": [
    "pl_data.shape"
   ]
  },
  {
   "cell_type": "code",
   "execution_count": 6,
   "id": "9d13a3ce",
   "metadata": {},
   "outputs": [],
   "source": [
    "pl_injury = pd.read_csv(\"../Data/20years_plteam_injury.csv\", names=['Season', 'Squad', 'Games_injured'], skiprows=1 )"
   ]
  },
  {
   "cell_type": "code",
   "execution_count": 7,
   "id": "c6aedcb0",
   "metadata": {},
   "outputs": [
    {
     "data": {
      "text/plain": [
       "Season           0\n",
       "Squad            0\n",
       "Games_injured    0\n",
       "dtype: int64"
      ]
     },
     "execution_count": 7,
     "metadata": {},
     "output_type": "execute_result"
    }
   ],
   "source": [
    "pl_injury.isna().sum()"
   ]
  },
  {
   "cell_type": "code",
   "execution_count": 8,
   "id": "17f828aa",
   "metadata": {},
   "outputs": [],
   "source": [
    "pl_injury[\"Season\"]=pl_injury[\"Season\"].astype(str)"
   ]
  },
  {
   "cell_type": "code",
   "execution_count": 9,
   "id": "b863efdb",
   "metadata": {},
   "outputs": [],
   "source": [
    "import json\n",
    "\n",
    "with open(r\"..\\Data\\team_actual_name.json\", \"r\") as fp:\n",
    "    team_actual_name = json.load(fp)"
   ]
  },
  {
   "cell_type": "code",
   "execution_count": 10,
   "id": "f71c2463",
   "metadata": {},
   "outputs": [
    {
     "data": {
      "text/plain": [
       "{'manchester-city': 'Manchester City',\n",
       " 'fc-arsenal': 'Arsenal',\n",
       " 'fc-chelsea': 'Chelsea',\n",
       " 'fc-liverpool': 'Liverpool',\n",
       " 'tottenham-hotspur': 'Tottenham',\n",
       " 'manchester-united': 'Manchester Utd',\n",
       " 'aston-villa': 'Aston Villa',\n",
       " 'newcastle-united': 'Newcastle Utd',\n",
       " 'brighton-amp-hove-albion': 'Brighton',\n",
       " 'west-ham-united': 'West Ham',\n",
       " 'fc-brentford': 'Brentford',\n",
       " 'crystal-palace': 'Crystal Palace',\n",
       " 'nottingham-forest': \"Nott'ham Forest\",\n",
       " 'afc-bournemouth': 'Bournemouth',\n",
       " 'fc-everton': 'Everton',\n",
       " 'wolverhampton-wanderers': 'Wolves',\n",
       " 'fc-fulham': 'Fulham',\n",
       " 'fc-burnley': 'Burnley',\n",
       " 'leicester-city': 'Leicester City',\n",
       " 'leeds-united': 'Leeds United',\n",
       " 'fc-southampton': 'Southampton',\n",
       " 'sheffield-united': 'Sheffield Utd',\n",
       " 'luton-town': 'Luton Town',\n",
       " 'hull-city': 'Hull City',\n",
       " 'afc-sunderland': 'Sunderland',\n",
       " 'fc-middlesbrough': 'Middlesbrough',\n",
       " 'norwich-city': 'Norwich City',\n",
       " 'fc-watford': 'Watford',\n",
       " 'stoke-city': 'Stoke City',\n",
       " 'fc-arsenal-u23': 'Arsenal FC U21',\n",
       " 'coventry-city': 'Coventry City',\n",
       " 'west-bromwich-albion': 'West Brom',\n",
       " 'blackburn-rovers': 'Blackburn',\n",
       " 'birmingham-city': 'Birmingham City',\n",
       " 'ipswich-town': 'Ipswich Town',\n",
       " 'fc-millwall': 'Millwall',\n",
       " 'manchester-united-uefa-u19': 'Manchester United UEFA U19',\n",
       " 'bristol-city': 'Bristol City',\n",
       " 'preston-north-end': 'Preston North End',\n",
       " 'queens-park-rangers': 'QPR',\n",
       " 'huddersfield-town': 'Huddersfield',\n",
       " 'plymouth-argyle': 'Plymouth Argyle',\n",
       " 'peterborough-united': 'Peterborough United',\n",
       " 'sheffield-wednesday': 'Sheffield Wednesday',\n",
       " 'fc-arsenal-uefa-u19': 'Arsenal FC UEFA U19',\n",
       " 'fc-chelsea-u23': 'Chelsea FC U21',\n",
       " 'bolton-wanderers': 'Bolton',\n",
       " 'derby-county': 'Derby County',\n",
       " 'manchester-city-u23': 'Manchester City U21',\n",
       " 'fc-portsmouth': 'Portsmouth',\n",
       " 'rotherham-united': 'Rotherham Utd',\n",
       " 'fc-liverpool-uefa-u19': 'Liverpool FC UEFA U19',\n",
       " 'charlton-athletic': 'Charlton Ath',\n",
       " 'fc-barnsley': 'Barnsley',\n",
       " 'fc-blackpool': 'Blackpool',\n",
       " 'fc-reading': 'Reading',\n",
       " 'manchester-united-u23': 'Manchester United U21',\n",
       " 'fc-arsenal-u18': 'Arsenal FC U18',\n",
       " 'wigan-athletic': 'Wigan Athletic',\n",
       " 'exeter-city': 'Exeter City',\n",
       " 'oxford-united': 'Oxford Utd',\n",
       " 'bristol-rovers': 'Bristol Rovers',\n",
       " 'wycombe-wanderers': 'Wycombe Wanderers',\n",
       " 'shrewsbury-town': 'Shrewsbury Town',\n",
       " 'lincoln-city': 'Lincoln City',\n",
       " 'northampton-town': 'Northampton Town',\n",
       " 'stockport-county': 'Stockport County',\n",
       " 'carlisle-united': 'Carlisle United',\n",
       " 'burton-albion': 'Burton Albion',\n",
       " 'fc-port-vale': 'Port Vale',\n",
       " 'leyton-orient': 'Leyton Orient',\n",
       " 'colchester-united': 'Colchester Utd',\n",
       " 'fc-liverpool-u23': 'Liverpool FC U21',\n",
       " 'milton-keynes-dons': 'Milton Keynes Dons',\n",
       " 'fc-stevenage': 'Stevenage',\n",
       " 'forest-green-rovers': 'Forest Green Rovers ',\n",
       " 'cambridge-united': 'Cambridge United',\n",
       " 'fleetwood-town': 'Fleetwood Town',\n",
       " 'crewe-alexandra': 'Crewe Alexandra',\n",
       " 'doncaster-rovers': 'Doncaster Rovers',\n",
       " 'west-ham-united-u23': 'West Ham United U21',\n",
       " 'mansfield-town': 'Mansfield Town',\n",
       " 'fc-gillingham': 'Gillingham',\n",
       " 'bradford-city': 'Bradford City',\n",
       " 'notts-county': 'Notts County',\n",
       " 'tottenham-hotspur-u23': 'Tottenham Hotspur U21',\n",
       " 'afc-wimbledon': 'AFC Wimbledon',\n",
       " 'accrington-stanley': 'Accrington Stanley',\n",
       " 'cheltenham-town': 'Cheltenham Town',\n",
       " 'fc-walsall': 'Walsall',\n",
       " 'fc-morecambe': 'Morecambe',\n",
       " 'salford-city': 'Salford City',\n",
       " 'afc-barrow': 'Barrow AFC',\n",
       " 'grimsby-town': 'Grimsby Town',\n",
       " 'swindon-town': 'Swindon Town',\n",
       " 'tranmere-rovers': 'Tranmere Rovers',\n",
       " 'manchester-city-uefa-u19': 'Manchester City UEFA U19',\n",
       " 'harrogate-town': 'Harrogate Town',\n",
       " 'crawley-town': 'Crawley Town',\n",
       " 'sutton-united': 'Sutton United',\n",
       " 'swansea-city': 'Swansea City',\n",
       " 'cardiff-city': 'Cardiff City'}"
      ]
     },
     "execution_count": 10,
     "metadata": {},
     "output_type": "execute_result"
    }
   ],
   "source": [
    "team_actual_name"
   ]
  },
  {
   "cell_type": "code",
   "execution_count": 11,
   "id": "565b46ef",
   "metadata": {},
   "outputs": [],
   "source": [
    "pl_injury['Squad'] = pl_injury['Squad'].map(team_actual_name)"
   ]
  },
  {
   "cell_type": "code",
   "execution_count": 12,
   "id": "6016e0cf",
   "metadata": {},
   "outputs": [
    {
     "name": "stdout",
     "output_type": "stream",
     "text": [
      "<class 'pandas.core.frame.DataFrame'>\n",
      "RangeIndex: 400 entries, 0 to 399\n",
      "Data columns (total 3 columns):\n",
      " #   Column         Non-Null Count  Dtype \n",
      "---  ------         --------------  ----- \n",
      " 0   Season         400 non-null    object\n",
      " 1   Squad          400 non-null    object\n",
      " 2   Games_injured  400 non-null    int64 \n",
      "dtypes: int64(1), object(2)\n",
      "memory usage: 9.5+ KB\n"
     ]
    }
   ],
   "source": [
    "pl_injury.info()"
   ]
  },
  {
   "cell_type": "markdown",
   "id": "2dcf41a8",
   "metadata": {},
   "source": [
    "\n",
    "<hr style=\"border: 5px solid #003262;\" />\n",
    "<hr style=\"border: 1px solid #fdb515;\" />"
   ]
  },
  {
   "cell_type": "code",
   "execution_count": 13,
   "id": "66b3fa87",
   "metadata": {},
   "outputs": [],
   "source": [
    "def_pressing_stats = ['Tkl','TklW','Def 3rd','Mid 3rd','Att 3rd','Tkl','Att','Tkl%','Lost','Blocks','Sh','Pass','Int','Tkl+Int','Clr','Err']"
   ]
  },
  {
   "cell_type": "code",
   "execution_count": 14,
   "id": "09a27ba3",
   "metadata": {},
   "outputs": [],
   "source": [
    "data_pressing = pl_data.loc[:,def_pressing_stats]"
   ]
  },
  {
   "cell_type": "code",
   "execution_count": 15,
   "id": "6755c77a",
   "metadata": {},
   "outputs": [],
   "source": [
    "shot_goal_creation_stats = ['SCA','SCA90','GCA','GCA90']"
   ]
  },
  {
   "cell_type": "code",
   "execution_count": 16,
   "id": "7e2c6b9f",
   "metadata": {},
   "outputs": [],
   "source": [
    "possession_stats = ['Pts','Poss','90s','Touches','Def Pen','Def 3rd','Mid 3rd','Att 3rd','Att Pen','Live','Att','Succ','Succ%','Tkld','Tkld%','Carries','TotDist','PrgDist','PrgC','1/3','CPA','Mis','Dis','Rec','PrgR']"
   ]
  },
  {
   "cell_type": "code",
   "execution_count": 17,
   "id": "151e1fa7",
   "metadata": {},
   "outputs": [],
   "source": [
    "data_possession = pl_data.loc[:,possession_stats]"
   ]
  },
  {
   "cell_type": "code",
   "execution_count": 18,
   "id": "f502972c",
   "metadata": {},
   "outputs": [
    {
     "data": {
      "text/plain": [
       "(Index(['Tkl', 'TklW', 'Def 3rd', 'Mid 3rd', 'Att 3rd', 'Tkl', 'Att', 'Tkl%',\n",
       "        'Lost', 'Blocks', 'Sh', 'Pass', 'Int', 'Tkl+Int', 'Clr', 'Err'],\n",
       "       dtype='object'),\n",
       " Index(['Pts', 'Poss', '90s', 'Touches', 'Def Pen', 'Def 3rd', 'Mid 3rd',\n",
       "        'Att 3rd', 'Att Pen', 'Live', 'Att', 'Succ', 'Succ%', 'Tkld', 'Tkld%',\n",
       "        'Carries', 'TotDist', 'PrgDist', 'PrgC', '1/3', 'CPA', 'Mis', 'Dis',\n",
       "        'Rec', 'PrgR'],\n",
       "       dtype='object'))"
      ]
     },
     "execution_count": 18,
     "metadata": {},
     "output_type": "execute_result"
    }
   ],
   "source": [
    "data_pressing.columns, data_possession.columns"
   ]
  },
  {
   "cell_type": "code",
   "execution_count": 19,
   "id": "932168d0",
   "metadata": {},
   "outputs": [
    {
     "data": {
      "text/plain": [
       "(400,\n",
       " 400,\n",
       " 0              Chelsea\n",
       " 1              Arsenal\n",
       " 2       Manchester Utd\n",
       " 3              Everton\n",
       " 4            Liverpool\n",
       "             ...       \n",
       " 395            Everton\n",
       " 396    Nott'ham Forest\n",
       " 397         Luton Town\n",
       " 398            Burnley\n",
       " 399      Sheffield Utd\n",
       " Name: Squad, Length: 400, dtype: object)"
      ]
     },
     "execution_count": 19,
     "metadata": {},
     "output_type": "execute_result"
    }
   ],
   "source": [
    "len(data_pressing), len(data_possession), pl_data['Squad']"
   ]
  },
  {
   "cell_type": "code",
   "execution_count": 20,
   "id": "41223c7a",
   "metadata": {},
   "outputs": [],
   "source": [
    "squad_names=pl_data['Squad']\n",
    "data_pressing_possession = data_pressing.merge(data_possession)"
   ]
  },
  {
   "cell_type": "code",
   "execution_count": 21,
   "id": "9557f2bf",
   "metadata": {},
   "outputs": [],
   "source": [
    "data_pressing_possession_corr = data_pressing_possession.corr()"
   ]
  },
  {
   "cell_type": "code",
   "execution_count": 22,
   "id": "1880ccf6",
   "metadata": {},
   "outputs": [],
   "source": [
    "data_pressing_possession_corr = data_pressing_possession_corr[abs(data_pressing_possession_corr)>0.65]"
   ]
  },
  {
   "cell_type": "code",
   "execution_count": 23,
   "id": "2f27fee5",
   "metadata": {},
   "outputs": [
    {
     "data": {
      "text/plain": [
       "<AxesSubplot:>"
      ]
     },
     "execution_count": 23,
     "metadata": {},
     "output_type": "execute_result"
    },
    {
     "data": {
      "image/png": "[encoded data removed]",
      "text/plain": [
       "<Figure size 640x480 with 2 Axes>"
      ]
     },
     "metadata": {},
     "output_type": "display_data"
    }
   ],
   "source": [
    "sns.heatmap(data_pressing_possession_corr)"
   ]
  },
  {
   "cell_type": "markdown",
   "id": "c69b0358",
   "metadata": {},
   "source": [
    "\n",
    "<hr style=\"border: 5px solid #003262;\" />\n",
    "<hr style=\"border: 1px solid #fdb515;\" />\n",
    "\n",
    "## Merging Injury data with pl_data and repeat the same to take relevant correlated columns"
   ]
  },
  {
   "cell_type": "code",
   "execution_count": 24,
   "id": "7bec87ab",
   "metadata": {},
   "outputs": [],
   "source": [
    "merged_df = pd.merge(pl_data, pl_injury, on=['Season', 'Squad'])"
   ]
  },
  {
   "cell_type": "code",
   "execution_count": 25,
   "id": "3d076f1b",
   "metadata": {},
   "outputs": [
    {
     "data": {
      "text/html": [
       "<div>\n",
       "<style scoped>\n",
       "    .dataframe tbody tr th:only-of-type {\n",
       "        vertical-align: middle;\n",
       "    }\n",
       "\n",
       "    .dataframe tbody tr th {\n",
       "        vertical-align: top;\n",
       "    }\n",
       "\n",
       "    .dataframe thead th {\n",
       "        text-align: right;\n",
       "    }\n",
       "</style>\n",
       "<table border=\"1\" class=\"dataframe\">\n",
       "  <thead>\n",
       "    <tr style=\"text-align: right;\">\n",
       "      <th></th>\n",
       "      <th>Squad</th>\n",
       "      <th>Rk</th>\n",
       "      <th>MP</th>\n",
       "      <th>W</th>\n",
       "      <th>D</th>\n",
       "      <th>L</th>\n",
       "      <th>GF</th>\n",
       "      <th>GA</th>\n",
       "      <th>GD</th>\n",
       "      <th>Pts</th>\n",
       "      <th>...</th>\n",
       "      <th>Fld.2</th>\n",
       "      <th>Int.1</th>\n",
       "      <th>TklW.1</th>\n",
       "      <th>OG.1</th>\n",
       "      <th>Recov</th>\n",
       "      <th>Won</th>\n",
       "      <th>Lost.1</th>\n",
       "      <th>Won%</th>\n",
       "      <th>Last 5</th>\n",
       "      <th>Games_injured</th>\n",
       "    </tr>\n",
       "  </thead>\n",
       "  <tbody>\n",
       "    <tr>\n",
       "      <th>0</th>\n",
       "      <td>Chelsea</td>\n",
       "      <td>1</td>\n",
       "      <td>38</td>\n",
       "      <td>29</td>\n",
       "      <td>8</td>\n",
       "      <td>1</td>\n",
       "      <td>72</td>\n",
       "      <td>15</td>\n",
       "      <td>57</td>\n",
       "      <td>95</td>\n",
       "      <td>...</td>\n",
       "      <td>NaN</td>\n",
       "      <td>NaN</td>\n",
       "      <td>NaN</td>\n",
       "      <td>NaN</td>\n",
       "      <td>NaN</td>\n",
       "      <td>NaN</td>\n",
       "      <td>NaN</td>\n",
       "      <td>NaN</td>\n",
       "      <td>NaN</td>\n",
       "      <td>463</td>\n",
       "    </tr>\n",
       "    <tr>\n",
       "      <th>1</th>\n",
       "      <td>Arsenal</td>\n",
       "      <td>2</td>\n",
       "      <td>38</td>\n",
       "      <td>25</td>\n",
       "      <td>8</td>\n",
       "      <td>5</td>\n",
       "      <td>87</td>\n",
       "      <td>36</td>\n",
       "      <td>51</td>\n",
       "      <td>83</td>\n",
       "      <td>...</td>\n",
       "      <td>NaN</td>\n",
       "      <td>NaN</td>\n",
       "      <td>NaN</td>\n",
       "      <td>NaN</td>\n",
       "      <td>NaN</td>\n",
       "      <td>NaN</td>\n",
       "      <td>NaN</td>\n",
       "      <td>NaN</td>\n",
       "      <td>NaN</td>\n",
       "      <td>618</td>\n",
       "    </tr>\n",
       "    <tr>\n",
       "      <th>2</th>\n",
       "      <td>Manchester Utd</td>\n",
       "      <td>3</td>\n",
       "      <td>38</td>\n",
       "      <td>22</td>\n",
       "      <td>11</td>\n",
       "      <td>5</td>\n",
       "      <td>58</td>\n",
       "      <td>26</td>\n",
       "      <td>32</td>\n",
       "      <td>77</td>\n",
       "      <td>...</td>\n",
       "      <td>NaN</td>\n",
       "      <td>NaN</td>\n",
       "      <td>NaN</td>\n",
       "      <td>NaN</td>\n",
       "      <td>NaN</td>\n",
       "      <td>NaN</td>\n",
       "      <td>NaN</td>\n",
       "      <td>NaN</td>\n",
       "      <td>NaN</td>\n",
       "      <td>728</td>\n",
       "    </tr>\n",
       "    <tr>\n",
       "      <th>3</th>\n",
       "      <td>Everton</td>\n",
       "      <td>4</td>\n",
       "      <td>38</td>\n",
       "      <td>18</td>\n",
       "      <td>7</td>\n",
       "      <td>13</td>\n",
       "      <td>45</td>\n",
       "      <td>46</td>\n",
       "      <td>-1</td>\n",
       "      <td>61</td>\n",
       "      <td>...</td>\n",
       "      <td>NaN</td>\n",
       "      <td>NaN</td>\n",
       "      <td>NaN</td>\n",
       "      <td>NaN</td>\n",
       "      <td>NaN</td>\n",
       "      <td>NaN</td>\n",
       "      <td>NaN</td>\n",
       "      <td>NaN</td>\n",
       "      <td>NaN</td>\n",
       "      <td>281</td>\n",
       "    </tr>\n",
       "    <tr>\n",
       "      <th>4</th>\n",
       "      <td>Liverpool</td>\n",
       "      <td>5</td>\n",
       "      <td>38</td>\n",
       "      <td>17</td>\n",
       "      <td>7</td>\n",
       "      <td>14</td>\n",
       "      <td>52</td>\n",
       "      <td>41</td>\n",
       "      <td>11</td>\n",
       "      <td>58</td>\n",
       "      <td>...</td>\n",
       "      <td>NaN</td>\n",
       "      <td>NaN</td>\n",
       "      <td>NaN</td>\n",
       "      <td>NaN</td>\n",
       "      <td>NaN</td>\n",
       "      <td>NaN</td>\n",
       "      <td>NaN</td>\n",
       "      <td>NaN</td>\n",
       "      <td>NaN</td>\n",
       "      <td>680</td>\n",
       "    </tr>\n",
       "    <tr>\n",
       "      <th>...</th>\n",
       "      <td>...</td>\n",
       "      <td>...</td>\n",
       "      <td>...</td>\n",
       "      <td>...</td>\n",
       "      <td>...</td>\n",
       "      <td>...</td>\n",
       "      <td>...</td>\n",
       "      <td>...</td>\n",
       "      <td>...</td>\n",
       "      <td>...</td>\n",
       "      <td>...</td>\n",
       "      <td>...</td>\n",
       "      <td>...</td>\n",
       "      <td>...</td>\n",
       "      <td>...</td>\n",
       "      <td>...</td>\n",
       "      <td>...</td>\n",
       "      <td>...</td>\n",
       "      <td>...</td>\n",
       "      <td>...</td>\n",
       "      <td>...</td>\n",
       "    </tr>\n",
       "    <tr>\n",
       "      <th>395</th>\n",
       "      <td>Everton</td>\n",
       "      <td>16</td>\n",
       "      <td>32</td>\n",
       "      <td>9</td>\n",
       "      <td>8</td>\n",
       "      <td>15</td>\n",
       "      <td>32</td>\n",
       "      <td>48</td>\n",
       "      <td>-16</td>\n",
       "      <td>29</td>\n",
       "      <td>...</td>\n",
       "      <td>294.0</td>\n",
       "      <td>312.0</td>\n",
       "      <td>370.0</td>\n",
       "      <td>3.0</td>\n",
       "      <td>1677.0</td>\n",
       "      <td>577.0</td>\n",
       "      <td>491.0</td>\n",
       "      <td>54.0</td>\n",
       "      <td>L L D W L</td>\n",
       "      <td>227</td>\n",
       "    </tr>\n",
       "    <tr>\n",
       "      <th>396</th>\n",
       "      <td>Nott'ham Forest</td>\n",
       "      <td>17</td>\n",
       "      <td>33</td>\n",
       "      <td>7</td>\n",
       "      <td>9</td>\n",
       "      <td>17</td>\n",
       "      <td>42</td>\n",
       "      <td>58</td>\n",
       "      <td>-16</td>\n",
       "      <td>26</td>\n",
       "      <td>...</td>\n",
       "      <td>322.0</td>\n",
       "      <td>283.0</td>\n",
       "      <td>364.0</td>\n",
       "      <td>2.0</td>\n",
       "      <td>1551.0</td>\n",
       "      <td>513.0</td>\n",
       "      <td>488.0</td>\n",
       "      <td>51.2</td>\n",
       "      <td>D D W L D</td>\n",
       "      <td>371</td>\n",
       "    </tr>\n",
       "    <tr>\n",
       "      <th>397</th>\n",
       "      <td>Luton Town</td>\n",
       "      <td>18</td>\n",
       "      <td>33</td>\n",
       "      <td>6</td>\n",
       "      <td>7</td>\n",
       "      <td>20</td>\n",
       "      <td>46</td>\n",
       "      <td>70</td>\n",
       "      <td>-24</td>\n",
       "      <td>25</td>\n",
       "      <td>...</td>\n",
       "      <td>385.0</td>\n",
       "      <td>291.0</td>\n",
       "      <td>319.0</td>\n",
       "      <td>4.0</td>\n",
       "      <td>1664.0</td>\n",
       "      <td>560.0</td>\n",
       "      <td>551.0</td>\n",
       "      <td>50.4</td>\n",
       "      <td>D L L W L</td>\n",
       "      <td>373</td>\n",
       "    </tr>\n",
       "    <tr>\n",
       "      <th>398</th>\n",
       "      <td>Burnley</td>\n",
       "      <td>19</td>\n",
       "      <td>33</td>\n",
       "      <td>4</td>\n",
       "      <td>8</td>\n",
       "      <td>21</td>\n",
       "      <td>33</td>\n",
       "      <td>68</td>\n",
       "      <td>-35</td>\n",
       "      <td>20</td>\n",
       "      <td>...</td>\n",
       "      <td>316.0</td>\n",
       "      <td>234.0</td>\n",
       "      <td>298.0</td>\n",
       "      <td>3.0</td>\n",
       "      <td>1482.0</td>\n",
       "      <td>501.0</td>\n",
       "      <td>635.0</td>\n",
       "      <td>44.1</td>\n",
       "      <td>W D D L D</td>\n",
       "      <td>323</td>\n",
       "    </tr>\n",
       "    <tr>\n",
       "      <th>399</th>\n",
       "      <td>Sheffield Utd</td>\n",
       "      <td>20</td>\n",
       "      <td>32</td>\n",
       "      <td>3</td>\n",
       "      <td>7</td>\n",
       "      <td>22</td>\n",
       "      <td>30</td>\n",
       "      <td>84</td>\n",
       "      <td>-54</td>\n",
       "      <td>16</td>\n",
       "      <td>...</td>\n",
       "      <td>273.0</td>\n",
       "      <td>291.0</td>\n",
       "      <td>354.0</td>\n",
       "      <td>6.0</td>\n",
       "      <td>1392.0</td>\n",
       "      <td>518.0</td>\n",
       "      <td>615.0</td>\n",
       "      <td>45.7</td>\n",
       "      <td>D D L D L</td>\n",
       "      <td>517</td>\n",
       "    </tr>\n",
       "  </tbody>\n",
       "</table>\n",
       "<p>400 rows × 198 columns</p>\n",
       "</div>"
      ],
      "text/plain": [
       "               Squad  Rk  MP   W   D   L  GF  GA  GD  Pts  ...  Fld.2  Int.1  \\\n",
       "0            Chelsea   1  38  29   8   1  72  15  57   95  ...    NaN    NaN   \n",
       "1            Arsenal   2  38  25   8   5  87  36  51   83  ...    NaN    NaN   \n",
       "2     Manchester Utd   3  38  22  11   5  58  26  32   77  ...    NaN    NaN   \n",
       "3            Everton   4  38  18   7  13  45  46  -1   61  ...    NaN    NaN   \n",
       "4          Liverpool   5  38  17   7  14  52  41  11   58  ...    NaN    NaN   \n",
       "..               ...  ..  ..  ..  ..  ..  ..  ..  ..  ...  ...    ...    ...   \n",
       "395          Everton  16  32   9   8  15  32  48 -16   29  ...  294.0  312.0   \n",
       "396  Nott'ham Forest  17  33   7   9  17  42  58 -16   26  ...  322.0  283.0   \n",
       "397       Luton Town  18  33   6   7  20  46  70 -24   25  ...  385.0  291.0   \n",
       "398          Burnley  19  33   4   8  21  33  68 -35   20  ...  316.0  234.0   \n",
       "399    Sheffield Utd  20  32   3   7  22  30  84 -54   16  ...  273.0  291.0   \n",
       "\n",
       "    TklW.1 OG.1   Recov    Won  Lost.1  Won%     Last 5  Games_injured  \n",
       "0      NaN  NaN     NaN    NaN     NaN   NaN        NaN            463  \n",
       "1      NaN  NaN     NaN    NaN     NaN   NaN        NaN            618  \n",
       "2      NaN  NaN     NaN    NaN     NaN   NaN        NaN            728  \n",
       "3      NaN  NaN     NaN    NaN     NaN   NaN        NaN            281  \n",
       "4      NaN  NaN     NaN    NaN     NaN   NaN        NaN            680  \n",
       "..     ...  ...     ...    ...     ...   ...        ...            ...  \n",
       "395  370.0  3.0  1677.0  577.0   491.0  54.0  L L D W L            227  \n",
       "396  364.0  2.0  1551.0  513.0   488.0  51.2  D D W L D            371  \n",
       "397  319.0  4.0  1664.0  560.0   551.0  50.4  D L L W L            373  \n",
       "398  298.0  3.0  1482.0  501.0   635.0  44.1  W D D L D            323  \n",
       "399  354.0  6.0  1392.0  518.0   615.0  45.7  D D L D L            517  \n",
       "\n",
       "[400 rows x 198 columns]"
      ]
     },
     "execution_count": 25,
     "metadata": {},
     "output_type": "execute_result"
    }
   ],
   "source": [
    "merged_df"
   ]
  },
  {
   "cell_type": "markdown",
   "id": "3930aabe",
   "metadata": {},
   "source": [
    "Some feature have too many Nan values \n",
    "* as the number of nan values points are alot we cannot just drop them. adding 0 or mean value will just skew the data.\n",
    "\n",
    "so we will just use feature which does not have nan values."
   ]
  },
  {
   "cell_type": "code",
   "execution_count": 26,
   "id": "eb12e535",
   "metadata": {},
   "outputs": [
    {
     "name": "stdout",
     "output_type": "stream",
     "text": [
      "Columns with no NaN values:\n",
      "59\n"
     ]
    }
   ],
   "source": [
    "df_no_nan = merged_df[merged_df.columns[merged_df.isna().sum() == 0]]\n",
    "\n",
    "# Display the columns with no NaN values\n",
    "print(\"Columns with no NaN values:\")\n",
    "print(len(df_no_nan.columns))"
   ]
  },
  {
   "cell_type": "code",
   "execution_count": 27,
   "id": "867538a2",
   "metadata": {},
   "outputs": [],
   "source": [
    "clean_data = df_no_nan.copy()"
   ]
  },
  {
   "cell_type": "code",
   "execution_count": 28,
   "id": "770e1f86",
   "metadata": {},
   "outputs": [
    {
     "data": {
      "text/html": [
       "<div>\n",
       "<style scoped>\n",
       "    .dataframe tbody tr th:only-of-type {\n",
       "        vertical-align: middle;\n",
       "    }\n",
       "\n",
       "    .dataframe tbody tr th {\n",
       "        vertical-align: top;\n",
       "    }\n",
       "\n",
       "    .dataframe thead th {\n",
       "        text-align: right;\n",
       "    }\n",
       "</style>\n",
       "<table border=\"1\" class=\"dataframe\">\n",
       "  <thead>\n",
       "    <tr style=\"text-align: right;\">\n",
       "      <th></th>\n",
       "      <th>Squad</th>\n",
       "      <th>Rk</th>\n",
       "      <th>MP</th>\n",
       "      <th>W</th>\n",
       "      <th>D</th>\n",
       "      <th>L</th>\n",
       "      <th>GF</th>\n",
       "      <th>GA</th>\n",
       "      <th>GD</th>\n",
       "      <th>Pts</th>\n",
       "      <th>...</th>\n",
       "      <th>SoT</th>\n",
       "      <th>SoT/90</th>\n",
       "      <th>G/SoT</th>\n",
       "      <th>PK.1</th>\n",
       "      <th>PKatt.2</th>\n",
       "      <th># Pl.3</th>\n",
       "      <th>90s.3</th>\n",
       "      <th>Fls</th>\n",
       "      <th>Season</th>\n",
       "      <th>Games_injured</th>\n",
       "    </tr>\n",
       "  </thead>\n",
       "  <tbody>\n",
       "    <tr>\n",
       "      <th>0</th>\n",
       "      <td>Chelsea</td>\n",
       "      <td>1</td>\n",
       "      <td>38</td>\n",
       "      <td>29</td>\n",
       "      <td>8</td>\n",
       "      <td>1</td>\n",
       "      <td>72</td>\n",
       "      <td>15</td>\n",
       "      <td>57</td>\n",
       "      <td>95</td>\n",
       "      <td>...</td>\n",
       "      <td>310</td>\n",
       "      <td>8.16</td>\n",
       "      <td>0.21</td>\n",
       "      <td>5</td>\n",
       "      <td>6</td>\n",
       "      <td>30</td>\n",
       "      <td>38.0</td>\n",
       "      <td>479</td>\n",
       "      <td>2004</td>\n",
       "      <td>463</td>\n",
       "    </tr>\n",
       "    <tr>\n",
       "      <th>1</th>\n",
       "      <td>Arsenal</td>\n",
       "      <td>2</td>\n",
       "      <td>38</td>\n",
       "      <td>25</td>\n",
       "      <td>8</td>\n",
       "      <td>5</td>\n",
       "      <td>87</td>\n",
       "      <td>36</td>\n",
       "      <td>51</td>\n",
       "      <td>83</td>\n",
       "      <td>...</td>\n",
       "      <td>301</td>\n",
       "      <td>7.92</td>\n",
       "      <td>0.28</td>\n",
       "      <td>3</td>\n",
       "      <td>4</td>\n",
       "      <td>25</td>\n",
       "      <td>38.0</td>\n",
       "      <td>441</td>\n",
       "      <td>2004</td>\n",
       "      <td>618</td>\n",
       "    </tr>\n",
       "    <tr>\n",
       "      <th>2</th>\n",
       "      <td>Manchester Utd</td>\n",
       "      <td>3</td>\n",
       "      <td>38</td>\n",
       "      <td>22</td>\n",
       "      <td>11</td>\n",
       "      <td>5</td>\n",
       "      <td>58</td>\n",
       "      <td>26</td>\n",
       "      <td>32</td>\n",
       "      <td>77</td>\n",
       "      <td>...</td>\n",
       "      <td>337</td>\n",
       "      <td>8.87</td>\n",
       "      <td>0.16</td>\n",
       "      <td>3</td>\n",
       "      <td>4</td>\n",
       "      <td>26</td>\n",
       "      <td>38.0</td>\n",
       "      <td>477</td>\n",
       "      <td>2004</td>\n",
       "      <td>728</td>\n",
       "    </tr>\n",
       "    <tr>\n",
       "      <th>3</th>\n",
       "      <td>Everton</td>\n",
       "      <td>4</td>\n",
       "      <td>38</td>\n",
       "      <td>18</td>\n",
       "      <td>7</td>\n",
       "      <td>13</td>\n",
       "      <td>45</td>\n",
       "      <td>46</td>\n",
       "      <td>-1</td>\n",
       "      <td>61</td>\n",
       "      <td>...</td>\n",
       "      <td>173</td>\n",
       "      <td>4.55</td>\n",
       "      <td>0.25</td>\n",
       "      <td>2</td>\n",
       "      <td>3</td>\n",
       "      <td>22</td>\n",
       "      <td>38.0</td>\n",
       "      <td>508</td>\n",
       "      <td>2004</td>\n",
       "      <td>281</td>\n",
       "    </tr>\n",
       "    <tr>\n",
       "      <th>4</th>\n",
       "      <td>Liverpool</td>\n",
       "      <td>5</td>\n",
       "      <td>38</td>\n",
       "      <td>17</td>\n",
       "      <td>7</td>\n",
       "      <td>14</td>\n",
       "      <td>52</td>\n",
       "      <td>41</td>\n",
       "      <td>11</td>\n",
       "      <td>58</td>\n",
       "      <td>...</td>\n",
       "      <td>245</td>\n",
       "      <td>6.45</td>\n",
       "      <td>0.19</td>\n",
       "      <td>3</td>\n",
       "      <td>5</td>\n",
       "      <td>29</td>\n",
       "      <td>38.0</td>\n",
       "      <td>430</td>\n",
       "      <td>2004</td>\n",
       "      <td>680</td>\n",
       "    </tr>\n",
       "  </tbody>\n",
       "</table>\n",
       "<p>5 rows × 57 columns</p>\n",
       "</div>"
      ],
      "text/plain": [
       "            Squad  Rk  MP   W   D   L  GF  GA  GD  Pts  ...  SoT  SoT/90  \\\n",
       "0         Chelsea   1  38  29   8   1  72  15  57   95  ...  310    8.16   \n",
       "1         Arsenal   2  38  25   8   5  87  36  51   83  ...  301    7.92   \n",
       "2  Manchester Utd   3  38  22  11   5  58  26  32   77  ...  337    8.87   \n",
       "3         Everton   4  38  18   7  13  45  46  -1   61  ...  173    4.55   \n",
       "4       Liverpool   5  38  17   7  14  52  41  11   58  ...  245    6.45   \n",
       "\n",
       "   G/SoT  PK.1  PKatt.2  # Pl.3  90s.3  Fls  Season  Games_injured  \n",
       "0   0.21     5        6      30   38.0  479    2004            463  \n",
       "1   0.28     3        4      25   38.0  441    2004            618  \n",
       "2   0.16     3        4      26   38.0  477    2004            728  \n",
       "3   0.25     2        3      22   38.0  508    2004            281  \n",
       "4   0.19     3        5      29   38.0  430    2004            680  \n",
       "\n",
       "[5 rows x 57 columns]"
      ]
     },
     "execution_count": 28,
     "metadata": {},
     "output_type": "execute_result"
    }
   ],
   "source": [
    "clean_data[\"Season\"]=clean_data[\"Season\"].astype(int)\n",
    "clean_data.drop(columns=[\"Top Team Scorer\", \"Goalkeeper\"], inplace=True)\n",
    "# clean_data = pd.get_dummies(clean_data, columns=['Squad'])\n",
    "clean_data.set_index('Squad')\n",
    "clean_data.head()"
   ]
  },
  {
   "cell_type": "markdown",
   "id": "94e14af2",
   "metadata": {},
   "source": [
    "Mapping the squads to convert names to numbers"
   ]
  },
  {
   "cell_type": "code",
   "execution_count": 29,
   "id": "8781810e",
   "metadata": {},
   "outputs": [
    {
     "name": "stdout",
     "output_type": "stream",
     "text": [
      "{'Chelsea': 1, 'Arsenal': 2, 'Manchester Utd': 3, 'Everton': 4, 'Liverpool': 5, 'Bolton': 6, 'Middlesbrough': 7, 'Manchester City': 8, 'Tottenham': 9, 'Aston Villa': 10, 'Charlton Ath': 11, 'Birmingham City': 12, 'Fulham': 13, 'Newcastle Utd': 14, 'Blackburn': 15, 'Portsmouth': 16, 'West Brom': 17, 'Crystal Palace': 18, 'Norwich City': 19, 'Southampton': 20, 'West Ham': 21, 'Wigan Athletic': 22, 'Sunderland': 23, 'Reading': 24, 'Sheffield Utd': 25, 'Watford': 26, 'Derby County': 27, 'Stoke City': 28, 'Hull City': 29, 'Wolves': 30, 'Burnley': 31, 'Blackpool': 32, 'Swansea City': 33, 'QPR': 34, 'Cardiff City': 35, 'Leicester City': 36, 'Bournemouth': 37, 'Brighton': 38, 'Huddersfield': 39, 'Leeds United': 40, 'Brentford': 41, \"Nott'ham Forest\": 42, 'Luton Town': 43}\n"
     ]
    }
   ],
   "source": [
    "squads = clean_data['Squad'].unique()\n",
    "\n",
    "squad_mapping = {squad: idx + 1 for idx, squad in enumerate(squads)}\n",
    "\n",
    "print(squad_mapping)"
   ]
  },
  {
   "cell_type": "code",
   "execution_count": 30,
   "id": "5ba01fb9",
   "metadata": {},
   "outputs": [],
   "source": [
    "clean_data['Squad'] = clean_data['Squad'].map(squad_mapping)"
   ]
  },
  {
   "cell_type": "markdown",
   "id": "9c7cf51f",
   "metadata": {},
   "source": [
    "Dropping `G-PK` and `PK` as they are the totals for the season and we are calculating the average for each game"
   ]
  },
  {
   "cell_type": "code",
   "execution_count": 31,
   "id": "142934fe",
   "metadata": {},
   "outputs": [],
   "source": [
    "clean_data.drop(['G-PK', 'PK'], axis=1, inplace=True)"
   ]
  },
  {
   "cell_type": "markdown",
   "id": "a86f6495",
   "metadata": {},
   "source": [
    "\n",
    "<hr style=\"border: 5px solid #003262;\" />\n",
    "<hr style=\"border: 1px solid #fdb515;\" />\n",
    "\n",
    "## Prediction of Injury and average goals per game using the pressing and possession data"
   ]
  },
  {
   "cell_type": "markdown",
   "id": "67c74bf7",
   "metadata": {},
   "source": [
    "Split the dataset"
   ]
  },
  {
   "cell_type": "code",
   "execution_count": 32,
   "id": "14167522",
   "metadata": {},
   "outputs": [],
   "source": [
    "X = clean_data.drop(['Games_injured', 'G-PK.1'], axis=1)  # Features\n",
    "y_injuries = clean_data['Games_injured']  # Predicting number of injuries\n",
    "y_rank = clean_data['G-PK.1']     # Predicting team goals per game\n",
    "\n",
    "# Split data into training and testing sets\n",
    "X_train, X_test, y_train_injuries, y_test_injuries = train_test_split(X, y_injuries, test_size=0.2, random_state=42)\n",
    "X_train, X_test, y_train_rank, y_test_rank = train_test_split(X, y_rank, test_size=0.2, random_state=42)\n",
    "\n",
    "# Standardize features\n",
    "scaler = StandardScaler()\n",
    "X_train_scaled = scaler.fit_transform(X_train)\n",
    "X_test_scaled = scaler.transform(X_test)"
   ]
  },
  {
   "cell_type": "markdown",
   "id": "24209781",
   "metadata": {},
   "source": [
    "#### PCA for Dimensionality Reduction"
   ]
  },
  {
   "cell_type": "code",
   "execution_count": 33,
   "id": "c5d2ed92",
   "metadata": {},
   "outputs": [],
   "source": [
    "pca = PCA(n_components=0.95)  # retain 95% of variance\n",
    "X_train_pca = pca.fit_transform(X_train_scaled)\n",
    "X_test_pca = pca.transform(X_test_scaled)"
   ]
  },
  {
   "cell_type": "markdown",
   "id": "001b5497",
   "metadata": {},
   "source": [
    "#### Linear Regression"
   ]
  },
  {
   "cell_type": "code",
   "execution_count": 34,
   "id": "47b775d5",
   "metadata": {},
   "outputs": [],
   "source": [
    "def train_evaluate(model, X_train, y_train, X_test, y_test):\n",
    "    model.fit(X_train, y_train)\n",
    "    predictions = model.predict(X_test)\n",
    "    mse = root_mean_squared_error(y_test, predictions)\n",
    "    r2 = r2_score(y_test, predictions)\n",
    "    max_err = max_error(y_test, predictions)\n",
    "    explained_var = explained_variance_score(y_test, predictions)\n",
    "    print(f\"RMSE: {mse}, Max error:{max_err}, Explained variance:{explained_var}\\n\")"
   ]
  },
  {
   "cell_type": "code",
   "execution_count": 35,
   "id": "051f02b6",
   "metadata": {},
   "outputs": [
    {
     "name": "stdout",
     "output_type": "stream",
     "text": [
      "\n",
      "Linear Regression for Injuries:\n",
      "RMSE: 98.72272661662329, Max error:425.9771410215904, Explained variance:0.15277284671044666\n",
      "\n",
      "Linear Regression for Goals per game:\n",
      "RMSE: 0.05400044524555812, Max error:0.15627146954239157, Explained variance:0.9836331437478858\n",
      "\n"
     ]
    }
   ],
   "source": [
    "# Linear Regression for injuries\n",
    "print(\"\\nLinear Regression for Injuries:\")\n",
    "train_evaluate(LinearRegression(), X_train_pca, y_train_injuries, X_test_pca, y_test_injuries)\n",
    "\n",
    "# Linear Regression for team rank\n",
    "print(\"Linear Regression for Goals per game:\")\n",
    "train_evaluate(LinearRegression(), X_train_pca, y_train_rank, X_test_pca, y_test_rank)\n"
   ]
  },
  {
   "cell_type": "markdown",
   "id": "5d3e3937",
   "metadata": {},
   "source": [
    "#### SVM"
   ]
  },
  {
   "cell_type": "code",
   "execution_count": 36,
   "id": "b85b9d5f",
   "metadata": {},
   "outputs": [
    {
     "name": "stdout",
     "output_type": "stream",
     "text": [
      "SVM Regression for Injuries:\n",
      "RMSE: 106.10123639062792, Max error:390.53669701252085, Explained variance:0.025374770777285005\n",
      "\n",
      "SVM Regression for Goals per game:\n",
      "RMSE: 0.09490783766507511, Max error:0.29006385883289365, Explained variance:0.9517822522113296\n",
      "\n"
     ]
    }
   ],
   "source": [
    "# SVM for injuries\n",
    "print(\"SVM Regression for Injuries:\")\n",
    "train_evaluate(SVR(), X_train_pca, y_train_injuries, X_test_pca, y_test_injuries)\n",
    "\n",
    "# SVM for team rank\n",
    "print(\"SVM Regression for Goals per game:\")\n",
    "train_evaluate(SVR(), X_train_pca, y_train_rank, X_test_pca, y_test_rank)\n"
   ]
  },
  {
   "cell_type": "markdown",
   "id": "6c883c89",
   "metadata": {},
   "source": [
    "#### Random Forest"
   ]
  },
  {
   "cell_type": "code",
   "execution_count": 37,
   "id": "1106fcc4",
   "metadata": {},
   "outputs": [
    {
     "name": "stdout",
     "output_type": "stream",
     "text": [
      "Random Forest Regression for Injuries:\n",
      "RMSE: 100.02411296782391, Max error:407.8, Explained variance:0.15005466276803103\n",
      "\n",
      "Random Forest Regression for Goals per game:\n",
      "RMSE: 0.11599740568219619, Max error:0.3645000000000007, Explained variance:0.9237917905801062\n",
      "\n"
     ]
    }
   ],
   "source": [
    "# Random Forest for injuries\n",
    "print(\"Random Forest Regression for Injuries:\")\n",
    "train_evaluate(RandomForestRegressor(n_estimators=100, random_state=42), X_train_pca, y_train_injuries, X_test_pca, y_test_injuries)\n",
    "\n",
    "# Random Forest for team rank\n",
    "print(\"Random Forest Regression for Goals per game:\")\n",
    "train_evaluate(RandomForestRegressor(n_estimators=100, random_state=42), X_train_pca, y_train_rank, X_test_pca, y_test_rank)\n"
   ]
  },
  {
   "cell_type": "markdown",
   "id": "b93bb171",
   "metadata": {},
   "source": [
    "#### Decision Tree"
   ]
  },
  {
   "cell_type": "code",
   "execution_count": 38,
   "id": "bcc12848",
   "metadata": {},
   "outputs": [
    {
     "name": "stdout",
     "output_type": "stream",
     "text": [
      "Decision Tree Regression for Injuries:\n",
      "RMSE: 155.03600388296906, Max error:513.0, Explained variance:-1.0938253182833968\n",
      "\n",
      "Poisson Regression for Team Rank:\n",
      "RMSE: 0.1663392617513977, Max error:0.5800000000000001, Explained variance:0.8466027842696874\n",
      "\n"
     ]
    }
   ],
   "source": [
    "# Decision Tree for injuries\n",
    "print(\"Decision Tree Regression for Injuries:\")\n",
    "train_evaluate(DecisionTreeRegressor(random_state=42), X_train_pca, y_train_injuries, X_test_pca, y_test_injuries)\n",
    "\n",
    "# Poisson Regression for team rank\n",
    "print(\"Poisson Regression for Team Rank:\")\n",
    "train_evaluate(DecisionTreeRegressor(random_state=42), X_train_pca, y_train_rank, X_test_pca, y_test_rank)"
   ]
  },
  {
   "cell_type": "markdown",
   "id": "356ca47d",
   "metadata": {},
   "source": [
    "#### Poisson Regression"
   ]
  },
  {
   "cell_type": "code",
   "execution_count": 39,
   "id": "d70394db",
   "metadata": {},
   "outputs": [
    {
     "name": "stdout",
     "output_type": "stream",
     "text": [
      "Poisson Regression for Injuries:\n",
      "RMSE: 98.3597257986138, Max error:422.8112274634432, Explained variance:0.15930382501099516\n",
      "\n",
      "Poisson Regression for Team Rank:\n",
      "RMSE: 0.0794819756794161, Max error:0.2635880480647159, Explained variance:0.9634777222894001\n",
      "\n"
     ]
    }
   ],
   "source": [
    "# Poisson Regression for injuries\n",
    "print(\"Poisson Regression for Injuries:\")\n",
    "train_evaluate(PoissonRegressor(), X_train_pca, y_train_injuries, X_test_pca, y_test_injuries)\n",
    "\n",
    "# Poisson Regression for team rank\n",
    "print(\"Poisson Regression for Team Rank:\")\n",
    "train_evaluate(PoissonRegressor(), X_train_pca, y_train_rank, X_test_pca, y_test_rank)"
   ]
  },
  {
   "cell_type": "markdown",
   "id": "7bb0fae7",
   "metadata": {},
   "source": [
    "\n",
    "<hr style=\"border: 5px solid #003262;\" />\n",
    "<hr style=\"border: 1px solid #fdb515;\" />\n",
    "\n",
    "## Prediction od expected goals(xG), goals against (xGA), and final expected points of the team at the end of the season"
   ]
  }
 ],
 "metadata": {
  "kernelspec": {
   "display_name": "Python 3 (ipykernel)",
   "language": "python",
   "name": "python3"
  },
  "language_info": {
   "codemirror_mode": {
    "name": "ipython",
    "version": 3
   },
   "file_extension": ".py",
   "mimetype": "text/x-python",
   "name": "python",
   "nbconvert_exporter": "python",
   "pygments_lexer": "ipython3",
   "version": "3.9.13"
  }
 },
 "nbformat": 4,
 "nbformat_minor": 5
}
