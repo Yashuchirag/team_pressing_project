{
 "cells": [
  {
   "cell_type": "code",
   "execution_count": 3,
   "id": "db1d4d01",
   "metadata": {},
   "outputs": [
    {
     "name": "stderr",
     "output_type": "stream",
     "text": [
      "C:\\Users\\vivek\\anaconda3\\lib\\site-packages\\numpy\\_distributor_init.py:30: UserWarning: loaded more than 1 DLL from .libs:\n",
      "C:\\Users\\vivek\\anaconda3\\lib\\site-packages\\numpy\\.libs\\libopenblas.FB5AE2TYXYH2IJRDKGDGQ3XBKLKTF43H.gfortran-win_amd64.dll\n",
      "C:\\Users\\vivek\\anaconda3\\lib\\site-packages\\numpy\\.libs\\libopenblas.XWYDX2IKJW2NMTWSFYNGFUWKQU3LYTCZ.gfortran-win_amd64.dll\n",
      "  warnings.warn(\"loaded more than 1 DLL from .libs:\"\n"
     ]
    }
   ],
   "source": [
    "import requests\n",
    "from bs4 import BeautifulSoup\n",
    "\n",
    "import re\n",
    "import pandas as pd\n",
    "\n",
    "import matplotlib.pyplot as plt\n",
    "import seaborn as sns"
   ]
  },
  {
   "cell_type": "code",
   "execution_count": 7,
   "id": "8706f2bf",
   "metadata": {},
   "outputs": [],
   "source": [
    "def get_url_website(url):\n",
    "    return requests.get(url)\n",
    "\n",
    "def retrieve_html_code(url_website):\n",
    "    return BeautifulSoup(url_website.content, \"html.parser\")"
   ]
  },
  {
   "cell_type": "code",
   "execution_count": 22,
   "id": "03477481",
   "metadata": {},
   "outputs": [],
   "source": [
    "url_website_pl_22_23_stats = get_url_website(\"https://fbref.com/en/comps/9/2022-2023/2022-2023-Premier-League-Stats\")"
   ]
  },
  {
   "cell_type": "code",
   "execution_count": 58,
   "id": "fdd03972",
   "metadata": {},
   "outputs": [],
   "source": [
    "def get_stats_table(table_id):\n",
    "    stats = html_website_pl_22_23_stats.find_all('table', attrs={\"id\":table_id})\n",
    "    pl_stats = pd.read_html(str(stats))[0]\n",
    "    pl_stats.columns = pl_stats.columns.droplevel(level=0)\n",
    "    pl_stats = pl_stats.set_index(\"Squad\")\n",
    "    return pl_stats"
   ]
  },
  {
   "cell_type": "code",
   "execution_count": 23,
   "id": "15ba4f46",
   "metadata": {},
   "outputs": [
    {
     "data": {
      "text/plain": [
       "<Response [200]>"
      ]
     },
     "execution_count": 23,
     "metadata": {},
     "output_type": "execute_result"
    }
   ],
   "source": [
    "url_website_pl_22_23_stats"
   ]
  },
  {
   "cell_type": "code",
   "execution_count": 24,
   "id": "0e772c36",
   "metadata": {},
   "outputs": [],
   "source": [
    "html_website_pl_22_23_stats = retrieve_html_code(url_website_pl_22_23_stats)"
   ]
  },
  {
   "cell_type": "code",
   "execution_count": 65,
   "id": "2c933de6",
   "metadata": {},
   "outputs": [],
   "source": [
    "pl_stats = {}\n",
    "\n",
    "pl_stats['squad_standard_stats'] = get_stats_table(\"stats_squads_standard_for\")\n",
    "pl_stats['squad_goalkeeping'] = get_stats_table(\"stats_squads_keeper_for\")\n",
    "pl_stats['squad_advanced_goalkeeping'] = get_stats_table(\"stats_squads_keeper_adv_for\")\n",
    "pl_stats['squad_defensive_actions'] = get_stats_table(\"stats_squads_defense_for\")\n",
    "pl_stats['squad_possession'] = get_stats_table(\"stats_squads_possession_for\")"
   ]
  },
  {
   "cell_type": "code",
   "execution_count": 67,
   "id": "200bc256",
   "metadata": {},
   "outputs": [
    {
     "data": {
      "text/plain": [
       "dict_keys(['squad_standard_stats', 'squad_goalkeeping', 'squad_advanced_goalkeeping', 'squad_defensive_actions', 'squad_possession'])"
      ]
     },
     "execution_count": 67,
     "metadata": {},
     "output_type": "execute_result"
    }
   ],
   "source": [
    "pl_stats.keys()"
   ]
  }
 ],
 "metadata": {
  "kernelspec": {
   "display_name": "Python 3 (ipykernel)",
   "language": "python",
   "name": "python3"
  },
  "language_info": {
   "codemirror_mode": {
    "name": "ipython",
    "version": 3
   },
   "file_extension": ".py",
   "mimetype": "text/x-python",
   "name": "python",
   "nbconvert_exporter": "python",
   "pygments_lexer": "ipython3",
   "version": "3.9.13"
  }
 },
 "nbformat": 4,
 "nbformat_minor": 5
}
