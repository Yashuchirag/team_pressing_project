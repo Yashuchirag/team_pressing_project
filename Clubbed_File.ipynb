{
 "cells": [
  {
   "cell_type": "code",
   "execution_count": 1,
   "id": "db1d4d01",
   "metadata": {},
   "outputs": [
    {
     "name": "stderr",
     "output_type": "stream",
     "text": [
      "C:\\Users\\vivek\\anaconda3\\lib\\site-packages\\numpy\\_distributor_init.py:30: UserWarning: loaded more than 1 DLL from .libs:\n",
      "C:\\Users\\vivek\\anaconda3\\lib\\site-packages\\numpy\\.libs\\libopenblas.FB5AE2TYXYH2IJRDKGDGQ3XBKLKTF43H.gfortran-win_amd64.dll\n",
      "C:\\Users\\vivek\\anaconda3\\lib\\site-packages\\numpy\\.libs\\libopenblas.XWYDX2IKJW2NMTWSFYNGFUWKQU3LYTCZ.gfortran-win_amd64.dll\n",
      "  warnings.warn(\"loaded more than 1 DLL from .libs:\"\n"
     ]
    }
   ],
   "source": [
    "import requests\n",
    "from bs4 import BeautifulSoup\n",
    "\n",
    "import re\n",
    "import pandas as pd\n",
    "\n",
    "import matplotlib.pyplot as plt\n",
    "import seaborn as sns"
   ]
  },
  {
   "cell_type": "code",
   "execution_count": 2,
   "id": "8706f2bf",
   "metadata": {},
   "outputs": [],
   "source": [
    "def get_url_website(url):\n",
    "    return requests.get(url)\n",
    "\n",
    "def retrieve_html_code(url_website):\n",
    "    return BeautifulSoup(url_website.content, \"html.parser\")"
   ]
  },
  {
   "cell_type": "code",
   "execution_count": null,
   "id": "03477481",
   "metadata": {},
   "outputs": [],
   "source": [
    "url_website_pl_22_23_stats = get_url_website(\"https://fbref.com/en/comps/9/2022-2023/2022-2023-Premier-League-Stats\")"
   ]
  },
  {
   "cell_type": "code",
   "execution_count": null,
   "id": "fdd03972",
   "metadata": {},
   "outputs": [],
   "source": [
    "def get_stats_table(table_id, index_col_name):\n",
    "    stats = html_website_pl_22_23_stats.find_all('table', attrs={\"id\":table_id})\n",
    "    pl_stats = pd.read_html(str(stats))[0]\n",
    "    pl_stats.columns = pl_stats.columns.droplevel(level=0)\n",
    "    pl_stats = pl_stats.set_index(index_col_name)\n",
    "    return pl_stats"
   ]
  },
  {
   "cell_type": "code",
   "execution_count": null,
   "id": "15ba4f46",
   "metadata": {},
   "outputs": [],
   "source": [
    "url_website_pl_22_23_stats"
   ]
  },
  {
   "cell_type": "code",
   "execution_count": null,
   "id": "0e772c36",
   "metadata": {},
   "outputs": [],
   "source": [
    "html_website_pl_22_23_stats = retrieve_html_code(url_website_pl_22_23_stats)"
   ]
  },
  {
   "cell_type": "code",
   "execution_count": null,
   "id": "74c8d597",
   "metadata": {},
   "outputs": [],
   "source": [
    "pl_stats = {}\n",
    "\n",
    "stats1 = html_website_pl_22_23_stats.find_all('table', attrs={\"id\":\"results2022-202391_overall\"})\n",
    "pl_stats1 = pd.read_html(str(stats1))[0]\n",
    "#pl_stats1.columns = pl_stats1.columns.droplevel(level=0)\n",
    "pl_stats1 = pl_stats1.set_index(\"Squad\")\n",
    "pl_stats['regular_season'] = pl_stats1"
   ]
  },
  {
   "cell_type": "code",
   "execution_count": null,
   "id": "2c933de6",
   "metadata": {},
   "outputs": [],
   "source": [
    "#pl_stats['regular_season'] = get_stats_table(\"results2022-202391_overall\", \"Squad\")\n",
    "pl_stats['squad_standard_stats'] = get_stats_table(\"stats_squads_standard_for\", \"Squad\")\n",
    "pl_stats['squad_goalkeeping'] = get_stats_table(\"stats_squads_keeper_for\", \"Squad\")\n",
    "pl_stats['squad_advanced_goalkeeping'] = get_stats_table(\"stats_squads_keeper_adv_for\", \"Squad\")\n",
    "pl_stats['squad_defensive_actions'] = get_stats_table(\"stats_squads_defense_for\", \"Squad\")\n",
    "pl_stats['squad_possession'] = get_stats_table(\"stats_squads_possession_for\", \"Squad\")\n",
    "pl_stats['squad_goal_and_shot_creation'] = get_stats_table(\"stats_squads_gca_for\", \"Squad\")\n",
    "pl_stats['squad_shooting'] = get_stats_table(\"stats_squads_shooting_for\", \"Squad\")\n",
    "pl_stats['squad_misc'] = get_stats_table(\"stats_squads_misc_for\", \"Squad\")"
   ]
  },
  {
   "cell_type": "code",
   "execution_count": null,
   "id": "200bc256",
   "metadata": {},
   "outputs": [],
   "source": [
    "pl_stats.keys()"
   ]
  },
  {
   "cell_type": "code",
   "execution_count": null,
   "id": "e28e7442",
   "metadata": {},
   "outputs": [],
   "source": [
    "#pl_stats"
   ]
  },
  {
   "cell_type": "code",
   "execution_count": null,
   "id": "93363856",
   "metadata": {},
   "outputs": [],
   "source": [
    "pd.concat([pl_stats[stat_name] for stat_name in pl_stats.keys()],axis=1, join='outer').to_csv(\"pl_stats.csv\",index=True)"
   ]
  },
  {
   "cell_type": "code",
   "execution_count": null,
   "id": "2584c2ec",
   "metadata": {},
   "outputs": [],
   "source": [
    "team_stats_url = {}"
   ]
  },
  {
   "cell_type": "code",
   "execution_count": null,
   "id": "2a540fe1",
   "metadata": {},
   "outputs": [],
   "source": [
    "team_stats_url['manchester_city'] = retrieve_html_code(get_url_website(\"https://fbref.com/en/squads/b8fd03ef/2022-2023/Manchester-City-Stats\"))\n",
    "team_stats_url['arsenel'] = retrieve_html_code(get_url_website(\"https://fbref.com/en/squads/18bb7c10/2022-2023/Arsenal-Stats\"))\n",
    "team_stats_url['manchester_united'] = retrieve_html_code(get_url_website(\"https://fbref.com/en/squads/19538871/2022-2023/Manchester-United-Stats\"))\n",
    "team_stats_url['newcastle'] = retrieve_html_code(get_url_website(\"https://fbref.com/en/squads/b2b47a98/2022-2023/Newcastle-United-Stats\"))\n",
    "team_stats_url['liverpool'] = retrieve_html_code(get_url_website(\"https://fbref.com/en/squads/822bd0ba/2022-2023/Liverpool-Stats\"))\n",
    "team_stats_url['brighton'] = retrieve_html_code(get_url_website(\"https://fbref.com/en/squads/d07537b9/2022-2023/Brighton-and-Hove-Albion-Stats\"))\n",
    "team_stats_url['aston_villa'] = retrieve_html_code(get_url_website(\"https://fbref.com/en/squads/8602292d/2022-2023/Aston-Villa-Stats\"))\n",
    "team_stats_url['nottingham_forest'] = retrieve_html_code(get_url_website(\"https://fbref.com/en/squads/e4a775cb/2022-2023/Nottingham-Forest-Stats\"))\n",
    "team_stats_url['everton'] = retrieve_html_code(get_url_website(\"https://fbref.com/en/squads/d3fd31cc/2022-2023/Everton-Stats\"))\n",
    "team_stats_url['leicester_city'] = retrieve_html_code(get_url_website(\"https://fbref.com/en/squads/a2d435b3/2022-2023/Leicester-City-Stats\"))\n",
    "team_stats_url['leeds_united'] = retrieve_html_code(get_url_website(\"https://fbref.com/en/squads/5bfb9659/2022-2023/Leeds-United-Stats\"))\n",
    "team_stats_url['southampton'] = retrieve_html_code(get_url_website(\"https://fbref.com/en/squads/33c895d4/2022-2023/Southampton-Stats\"))"
   ]
  },
  {
   "cell_type": "code",
   "execution_count": null,
   "id": "1204e7c1",
   "metadata": {},
   "outputs": [],
   "source": [
    "def get_team_stats_table(website_html, table_id, index_col_name):\n",
    "    stats = website_html.find_all('table', attrs={\"id\":table_id})\n",
    "    pl_stats = pd.read_html(str(stats))[0]\n",
    "    pl_stats.columns = pl_stats.columns.droplevel(level=0)\n",
    "    pl_stats = pl_stats.set_index(index_col_name)\n",
    "    return pl_stats"
   ]
  },
  {
   "cell_type": "code",
   "execution_count": null,
   "id": "6e5ca043",
   "metadata": {},
   "outputs": [],
   "source": [
    "#team_stats_url['manchester_united']"
   ]
  },
  {
   "cell_type": "code",
   "execution_count": null,
   "id": "5302e283",
   "metadata": {},
   "outputs": [],
   "source": [
    "get_team_stats_table(team_stats_url['manchester_united'], \"stats_keeper_adv_9\", \"Player\")"
   ]
  },
  {
   "cell_type": "code",
   "execution_count": null,
   "id": "22509567",
   "metadata": {},
   "outputs": [],
   "source": [
    "team_stats={}\n",
    "\n",
    "for key_iter in team_stats_url.keys():\n",
    "    temp_stats={}\n",
    "    temp_stats[\"squad_standard_stats\"]=get_team_stats_table(team_stats_url[key_iter], \"stats_standard_9\", \"Player\").drop(\"Matches\",axis=1)\n",
    "    temp_stats[\"squad_goalkeeping\"]=get_team_stats_table(team_stats_url[key_iter], \"stats_keeper_9\", \"Player\").drop([\"Matches\", \"Nation\", \"Pos\"],axis=1)\n",
    "    temp_stats[\"squad_advanced_goalkeeping\"]=get_team_stats_table(team_stats_url[key_iter], \"stats_keeper_adv_9\", \"Player\").drop([\"Matches\", \"Nation\", \"Pos\"],axis=1)\n",
    "    temp_stats[\"squad_defensive_actions\"]=get_team_stats_table(team_stats_url[key_iter], \"stats_defense_9\", \"Player\").drop(\"Matches\",axis=1)\n",
    "    temp_stats[\"squad_possession\"]=get_team_stats_table(team_stats_url[key_iter], \"stats_possession_9\", \"Player\").drop(\"Matches\",axis=1)\n",
    "    temp_stats[\"squad_goal_and_shot_creation\"]=get_team_stats_table(team_stats_url[key_iter], \"stats_gca_9\", \"Player\").drop(\"Matches\",axis=1)\n",
    "    temp_stats[\"squad_shooting\"]=get_team_stats_table(team_stats_url[key_iter], \"stats_shooting_9\", \"Player\").drop(\"Matches\",axis=1)\n",
    "    temp_stats[\"squad_misc\"]=get_team_stats_table(team_stats_url[key_iter], \"stats_misc_9\", \"Player\").drop(\"Matches\",axis=1)\n",
    "    \n",
    "    \n",
    "    #print(temp_stats.keys())\n",
    "    #print(pd.concat([temp_stats['squad_standard_stats'], temp_stats['squad_defensive_actions']],axis=1).columns)\n",
    "    temp_df=pd.concat([temp_stats[stat_name] for stat_name in temp_stats.keys()],axis=1, join='outer')\n",
    "    \n",
    "    team_stats[key_iter]=temp_df"
   ]
  },
  {
   "cell_type": "code",
   "execution_count": null,
   "id": "58b007de",
   "metadata": {
    "scrolled": false
   },
   "outputs": [],
   "source": [
    "#print(team_stats.keys(), team_stats[\"manchester_united\"].keys())"
   ]
  },
  {
   "cell_type": "code",
   "execution_count": null,
   "id": "73590f3c",
   "metadata": {},
   "outputs": [],
   "source": [
    "import csv\n",
    "import os\n",
    "\n",
    "def saver(dictex):\n",
    "    for key, val in dictex.items():\n",
    "        #print(key, val)\n",
    "        #print(f\"Duplicate columns in {str(key)}\")\n",
    "        #print(val.columns[val.columns.duplicated()], val.columns[val.columns.duplicated()].value_counts())\n",
    "        #print(val.columns[val.columns.duplicated()], val.columns)\n",
    "        \n",
    "        #val.drop(val.columns[val.columns.duplicated()],axis=1).to_csv(\"data_{}.csv\".format(str(key)))\n",
    "        unique_columns = set(val.columns)\n",
    "\n",
    "        # Drop the duplicate columns\n",
    "        #print(pd.Series(val.columns == val[list(unique_columns)].columns).value_counts())\n",
    "        val = val[list(unique_columns)]\n",
    "        val.to_csv(\"data_{}.csv\".format(str(key)))\n",
    "        #print(val.columns[val.columns.duplicated()], val.columns[val.columns.duplicated()].value_counts())\n",
    "        \n",
    "def loader(data_keys):\n",
    "    dictex = {}    \n",
    "    for key in data_keys:\n",
    "        file_path = \"data_{}.csv\".format(str(key))\n",
    "        if os.path.exists(file_path):\n",
    "            continue\n",
    "        else:\n",
    "            df = pd.DataFrame()\n",
    "            df.to_csv(file_path, index=False)\n",
    "        dictex[key] = pd.read_csv(file_path)\n",
    "    #print(dictex)\n",
    "    return dictex\n",
    "\n",
    "#dictex = loader(team_stats.keys())\n",
    "saver(team_stats)"
   ]
  },
  {
   "cell_type": "code",
   "execution_count": null,
   "id": "338d0970",
   "metadata": {},
   "outputs": [],
   "source": []
  },
  {
   "cell_type": "code",
   "execution_count": null,
   "id": "9955afcf",
   "metadata": {},
   "outputs": [],
   "source": [
    "import seaborn as sns"
   ]
  },
  {
   "cell_type": "code",
   "execution_count": null,
   "id": "c4da5138",
   "metadata": {},
   "outputs": [],
   "source": [
    "man_utd_stats = pd.read_csv(\"data_manchester_united.csv\", index_col=\"Player\")"
   ]
  },
  {
   "cell_type": "code",
   "execution_count": null,
   "id": "1a009c18",
   "metadata": {},
   "outputs": [],
   "source": [
    "data_corr=man_utd_stats.corr()"
   ]
  },
  {
   "cell_type": "code",
   "execution_count": null,
   "id": "ba91a27f",
   "metadata": {},
   "outputs": [],
   "source": [
    "data_corr"
   ]
  },
  {
   "cell_type": "code",
   "execution_count": null,
   "id": "0cc5b066",
   "metadata": {},
   "outputs": [],
   "source": [
    "correlated_features = data_corr[(data_corr > 0.6) | (data_corr < -0.6)]"
   ]
  },
  {
   "cell_type": "code",
   "execution_count": null,
   "id": "b4d08600",
   "metadata": {},
   "outputs": [],
   "source": [
    "correlated_features_df = correlated_features.stack().index\n",
    "correlated_features_df=pd.DataFrame(correlated_features_df)\n",
    "\n",
    "correlated_features_df"
   ]
  },
  {
   "cell_type": "code",
   "execution_count": null,
   "id": "3ea70c18",
   "metadata": {},
   "outputs": [],
   "source": [
    "correlated_features_df = pd.DataFrame(correlated_features.stack().index)\n",
    "#print(correlated_features_df.loc[:,0])\n",
    "correlated_features_df=pd.DataFrame(correlated_features_df.loc[:,0])\n",
    "#correlated_features_df"
   ]
  },
  {
   "cell_type": "code",
   "execution_count": null,
   "id": "de0fc6d2",
   "metadata": {},
   "outputs": [],
   "source": [
    "#[correlated_features_df.loc[:,0][i][0] != correlated_features_df.loc[:,0][i][1] for i in range(len(correlated_features_df))]"
   ]
  },
  {
   "cell_type": "code",
   "execution_count": null,
   "id": "860a0575",
   "metadata": {},
   "outputs": [],
   "source": [
    "correlated_features_df[0].loc[:,0]"
   ]
  },
  {
   "cell_type": "code",
   "execution_count": null,
   "id": "324496f1",
   "metadata": {},
   "outputs": [],
   "source": [
    "correlated_features_df=correlated_features_df[[correlated_features_df.loc[:,0][i][0] != correlated_features_df.loc[:,0][i][1] for i in range(len(correlated_features_df))]]"
   ]
  },
  {
   "cell_type": "code",
   "execution_count": null,
   "id": "236c8379",
   "metadata": {},
   "outputs": [],
   "source": [
    "correlated_features_df"
   ]
  },
  {
   "cell_type": "code",
   "execution_count": null,
   "id": "4b79ffc3",
   "metadata": {},
   "outputs": [],
   "source": [
    "man_utd_stats[]"
   ]
  }
 ],
 "metadata": {
  "kernelspec": {
   "display_name": "Python 3 (ipykernel)",
   "language": "python",
   "name": "python3"
  },
  "language_info": {
   "codemirror_mode": {
    "name": "ipython",
    "version": 3
   },
   "file_extension": ".py",
   "mimetype": "text/x-python",
   "name": "python",
   "nbconvert_exporter": "python",
   "pygments_lexer": "ipython3",
   "version": "3.9.13"
  }
 },
 "nbformat": 4,
 "nbformat_minor": 5
}
